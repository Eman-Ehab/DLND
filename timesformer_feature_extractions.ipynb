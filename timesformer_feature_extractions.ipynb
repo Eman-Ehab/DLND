{
  "cells": [
    {
      "cell_type": "markdown",
      "metadata": {
        "id": "view-in-github",
        "colab_type": "text"
      },
      "source": [
        "<a href=\"https://colab.research.google.com/github/Eman-Ehab/DLND/blob/master/timesformer_feature_extractions.ipynb\" target=\"_parent\"><img src=\"https://colab.research.google.com/assets/colab-badge.svg\" alt=\"Open In Colab\"/></a>"
      ]
    },
    {
      "cell_type": "code",
      "source": [],
      "metadata": {
        "id": "yIBfBGtgv2aA"
      },
      "execution_count": 51,
      "outputs": []
    },
    {
      "cell_type": "code",
      "execution_count": 2,
      "metadata": {
        "id": "45--xWomcqS6",
        "colab": {
          "base_uri": "https://localhost:8080/"
        },
        "outputId": "02b2d1f2-2f4c-4cdb-8ad2-6f4f76367057"
      },
      "outputs": [
        {
          "output_type": "stream",
          "name": "stdout",
          "text": [
            "\u001b[2K     \u001b[90m━━━━━━━━━━━━━━━━━━━━━━━━━━━━━━━━━━━━━━━\u001b[0m \u001b[32m132.7/132.7 kB\u001b[0m \u001b[31m2.0 MB/s\u001b[0m eta \u001b[36m0:00:00\u001b[0m\n",
            "\u001b[?25h  Preparing metadata (setup.py) ... \u001b[?25l\u001b[?25hdone\n",
            "\u001b[2K     \u001b[90m━━━━━━━━━━━━━━━━━━━━━━━━━━━━━━━━━━━━━━━━\u001b[0m \u001b[32m7.4/7.4 MB\u001b[0m \u001b[31m46.6 MB/s\u001b[0m eta \u001b[36m0:00:00\u001b[0m\n",
            "\u001b[2K     \u001b[90m━━━━━━━━━━━━━━━━━━━━━━━━━━━━━━━━━━━━━━━━\u001b[0m \u001b[32m81.4/81.4 kB\u001b[0m \u001b[31m8.9 MB/s\u001b[0m eta \u001b[36m0:00:00\u001b[0m\n",
            "\u001b[2K     \u001b[90m━━━━━━━━━━━━━━━━━━━━━━━━━━━━━━━━━━━━━━━━\u001b[0m \u001b[32m50.2/50.2 kB\u001b[0m \u001b[31m5.7 MB/s\u001b[0m eta \u001b[36m0:00:00\u001b[0m\n",
            "\u001b[?25h  Preparing metadata (setup.py) ... \u001b[?25l\u001b[?25hdone\n",
            "\u001b[2K     \u001b[90m━━━━━━━━━━━━━━━━━━━━━━━━━━━━━━━━━━━━━━━━\u001b[0m \u001b[32m31.0/31.0 MB\u001b[0m \u001b[31m38.8 MB/s\u001b[0m eta \u001b[36m0:00:00\u001b[0m\n",
            "\u001b[2K     \u001b[90m━━━━━━━━━━━━━━━━━━━━━━━━━━━━━━━━━━━━━━━━\u001b[0m \u001b[32m42.2/42.2 kB\u001b[0m \u001b[31m4.6 MB/s\u001b[0m eta \u001b[36m0:00:00\u001b[0m\n",
            "\u001b[?25h  Preparing metadata (setup.py) ... \u001b[?25l\u001b[?25hdone\n",
            "\u001b[2K     \u001b[90m━━━━━━━━━━━━━━━━━━━━━━━━━━━━━━━━━━━━━━\u001b[0m \u001b[32m268.8/268.8 kB\u001b[0m \u001b[31m26.8 MB/s\u001b[0m eta \u001b[36m0:00:00\u001b[0m\n",
            "\u001b[2K     \u001b[90m━━━━━━━━━━━━━━━━━━━━━━━━━━━━━━━━━━━━━━━━\u001b[0m \u001b[32m7.8/7.8 MB\u001b[0m \u001b[31m99.1 MB/s\u001b[0m eta \u001b[36m0:00:00\u001b[0m\n",
            "\u001b[2K     \u001b[90m━━━━━━━━━━━━━━━━━━━━━━━━━━━━━━━━━━━━━━━━\u001b[0m \u001b[32m1.3/1.3 MB\u001b[0m \u001b[31m73.4 MB/s\u001b[0m eta \u001b[36m0:00:00\u001b[0m\n",
            "\u001b[2K     \u001b[90m━━━━━━━━━━━━━━━━━━━━━━━━━━━━━━━━━━━━━━\u001b[0m \u001b[32m492.2/492.2 kB\u001b[0m \u001b[31m41.2 MB/s\u001b[0m eta \u001b[36m0:00:00\u001b[0m\n",
            "\u001b[2K     \u001b[90m━━━━━━━━━━━━━━━━━━━━━━━━━━━━━━━━━━━━━━\u001b[0m \u001b[32m115.3/115.3 kB\u001b[0m \u001b[31m12.7 MB/s\u001b[0m eta \u001b[36m0:00:00\u001b[0m\n",
            "\u001b[2K     \u001b[90m━━━━━━━━━━━━━━━━━━━━━━━━━━━━━━━━━━━━━━\u001b[0m \u001b[32m212.5/212.5 kB\u001b[0m \u001b[31m13.2 MB/s\u001b[0m eta \u001b[36m0:00:00\u001b[0m\n",
            "\u001b[2K     \u001b[90m━━━━━━━━━━━━━━━━━━━━━━━━━━━━━━━━━━━━━━\u001b[0m \u001b[32m134.8/134.8 kB\u001b[0m \u001b[31m11.1 MB/s\u001b[0m eta \u001b[36m0:00:00\u001b[0m\n",
            "\u001b[?25h  Building wheel for pytorchvideo (setup.py) ... \u001b[?25l\u001b[?25hdone\n",
            "  Building wheel for fvcore (setup.py) ... \u001b[?25l\u001b[?25hdone\n",
            "  Building wheel for iopath (setup.py) ... \u001b[?25l\u001b[?25hdone\n"
          ]
        }
      ],
      "source": [
        "pip install -q pytorchvideo transformers evaluate"
      ]
    },
    {
      "cell_type": "code",
      "execution_count": 3,
      "metadata": {
        "id": "-P8OZI0MctMI"
      },
      "outputs": [],
      "source": [
        "import av\n",
        "import torch\n",
        "import numpy as np\n",
        "from torch import nn\n",
        "from transformers import TimesformerConfig, TimesformerModel\n",
        "from transformers import AutoImageProcessor, TimesformerForVideoClassification\n",
        "from huggingface_hub import hf_hub_download\n",
        "\n",
        "np.random.seed(0)"
      ]
    },
    {
      "cell_type": "code",
      "execution_count": null,
      "metadata": {
        "id": "1qC1PIIhct2P"
      },
      "outputs": [],
      "source": [
        "videos_path = \"./drive/MyDrive/FeatureExtraction/video_input/\"\n",
        "video_list = os.listdir(videos_path)\n",
        "\n"
      ]
    },
    {
      "cell_type": "code",
      "execution_count": 4,
      "metadata": {
        "id": "BRODCKfzfdp1"
      },
      "outputs": [],
      "source": [
        "pretrained_timesformer = [\"facebook/timesformer-base-finetuned-k400\",\n",
        "                        \"facebook/timesformer-base-finetuned-k600\",\n",
        "                        \"facebook/timesformer-hr-finetuned-k600\",\n",
        "                        \"facebook/timesformer-hr-finetuned-k400\",\n",
        "                        \"facebook/timesformer-base-finetuned-ssv2\", \"facebook/timesformer-hr-finetuned-ssv2\"]\n"
      ]
    },
    {
      "cell_type": "code",
      "execution_count": 27,
      "metadata": {
        "id": "HjawdJsafdsT"
      },
      "outputs": [],
      "source": [
        "model_names = [\n",
        "    # Kinetics-400 checkpoints (hr = high resolution input of 448px instead of 224px)\n",
        "    \"timesformer-base-finetuned-k400\",\n",
        "    \"timesformer-large-finetuned-k400\",\n",
        "    \"timesformer-hr-finetuned-k400\",\n",
        "    # Kinetics-600 checkpoints (hr = high resolution input of 448px instead of 224px)\n",
        "    \"timesformer-base-finetuned-k600\",\n",
        "    \"timesformer-large-finetuned-k600\",\n",
        "    \"timesformer-hr-finetuned-k600\",\n",
        "    # Something-Something-v2 checkpoints (hr = high resolution input of 448px instead of 224px)\n",
        "    \"timesformer-base-finetuned-ssv2\",\n",
        "    \"timesformer-large-finetuned-ssv2\",\n",
        "    \"timesformer-hr-finetuned-ssv2\",\n",
        "]\n",
        "model_names = [\"facebook/\"+md for md in model_names]"
      ]
    },
    {
      "cell_type": "code",
      "execution_count": null,
      "metadata": {
        "colab": {
          "background_save": true
        },
        "id": "FlSiRRQERVFG"
      },
      "outputs": [],
      "source": [
        "image_processor = AutoImageProcessor.from_pretrained(\"facebook/timesformer-base-finetuned-k400\")\n",
        "configuration.update_from_string(\"num_hidden_layers=4\")\n",
        "\n",
        "model = TimesformerModel.from_pretrained(\"facebook/timesformer-base-finetuned-k400\", config=\n",
        "                                         configuration)"
      ]
    },
    {
      "cell_type": "code",
      "execution_count": null,
      "metadata": {
        "id": "SdoGIKVwTVmh"
      },
      "outputs": [],
      "source": [
        "model = TimesformerForVideoClassification.from_pretrained(pre_model)\n",
        "configuration = TimesformerConfig()"
      ]
    },
    {
      "cell_type": "code",
      "execution_count": 55,
      "metadata": {
        "colab": {
          "base_uri": "https://localhost:8080/"
        },
        "id": "ulVc-aVUct7L",
        "outputId": "b16c28df-42f3-48e7-b121-9ab0de7ed323"
      },
      "outputs": [
        {
          "output_type": "stream",
          "name": "stdout",
          "text": [
            "facebook/timesformer-base-finetuned-k400\n",
            "13\n",
            ">>>>>>>>>>>>>>>>>>>>>>>>>>\n"
          ]
        },
        {
          "output_type": "stream",
          "name": "stderr",
          "text": [
            "Some weights of the model checkpoint at facebook/timesformer-base-finetuned-k400 were not used when initializing TimesformerForVideoClassification: ['timesformer.encoder.layer.9.intermediate.dense.bias', 'timesformer.encoder.layer.1.attention.output.dense.weight', 'timesformer.encoder.layer.5.output.dense.weight', 'timesformer.encoder.layer.8.layernorm_after.bias', 'timesformer.encoder.layer.10.attention.output.dense.weight', 'timesformer.encoder.layer.10.temporal_attention.output.dense.bias', 'timesformer.encoder.layer.4.temporal_dense.weight', 'timesformer.encoder.layer.2.output.dense.bias', 'timesformer.encoder.layer.5.temporal_dense.weight', 'timesformer.encoder.layer.8.temporal_attention.output.dense.bias', 'timesformer.encoder.layer.11.attention.output.dense.weight', 'timesformer.encoder.layer.4.temporal_attention.output.dense.bias', 'timesformer.encoder.layer.5.temporal_dense.bias', 'timesformer.encoder.layer.4.layernorm_before.bias', 'timesformer.encoder.layer.4.attention.attention.qkv.weight', 'timesformer.encoder.layer.6.output.dense.weight', 'timesformer.encoder.layer.9.temporal_attention.output.dense.bias', 'timesformer.encoder.layer.4.output.dense.weight', 'timesformer.encoder.layer.5.temporal_attention.output.dense.bias', 'timesformer.encoder.layer.3.output.dense.weight', 'timesformer.encoder.layer.4.temporal_attention.attention.qkv.bias', 'timesformer.encoder.layer.3.layernorm_before.bias', 'timesformer.encoder.layer.2.attention.output.dense.weight', 'timesformer.encoder.layer.6.layernorm_after.bias', 'timesformer.encoder.layer.5.temporal_layernorm.bias', 'timesformer.encoder.layer.6.temporal_attention.attention.qkv.bias', 'timesformer.encoder.layer.2.attention.output.dense.bias', 'timesformer.encoder.layer.2.temporal_attention.attention.qkv.weight', 'timesformer.encoder.layer.2.temporal_dense.bias', 'timesformer.encoder.layer.3.attention.output.dense.weight', 'timesformer.encoder.layer.2.layernorm_after.weight', 'timesformer.encoder.layer.6.output.dense.bias', 'timesformer.encoder.layer.10.temporal_attention.attention.qkv.weight', 'timesformer.encoder.layer.1.layernorm_after.bias', 'timesformer.encoder.layer.10.intermediate.dense.bias', 'timesformer.encoder.layer.11.attention.attention.qkv.bias', 'timesformer.encoder.layer.9.temporal_dense.bias', 'timesformer.encoder.layer.1.intermediate.dense.weight', 'timesformer.encoder.layer.4.layernorm_before.weight', 'timesformer.encoder.layer.4.layernorm_after.bias', 'timesformer.encoder.layer.5.temporal_attention.attention.qkv.weight', 'timesformer.encoder.layer.5.layernorm_before.weight', 'timesformer.encoder.layer.6.layernorm_before.weight', 'timesformer.encoder.layer.11.temporal_attention.attention.qkv.weight', 'timesformer.encoder.layer.5.layernorm_after.bias', 'timesformer.encoder.layer.5.temporal_attention.output.dense.weight', 'timesformer.encoder.layer.6.attention.attention.qkv.weight', 'timesformer.encoder.layer.6.intermediate.dense.bias', 'timesformer.encoder.layer.3.temporal_dense.weight', 'timesformer.encoder.layer.2.output.dense.weight', 'timesformer.encoder.layer.9.layernorm_before.bias', 'timesformer.encoder.layer.1.temporal_dense.bias', 'timesformer.encoder.layer.4.intermediate.dense.bias', 'timesformer.encoder.layer.11.temporal_attention.output.dense.bias', 'timesformer.encoder.layer.8.temporal_layernorm.weight', 'timesformer.encoder.layer.10.temporal_layernorm.weight', 'timesformer.encoder.layer.6.layernorm_after.weight', 'timesformer.encoder.layer.7.intermediate.dense.bias', 'timesformer.encoder.layer.3.temporal_attention.output.dense.bias', 'timesformer.encoder.layer.5.intermediate.dense.bias', 'timesformer.encoder.layer.7.temporal_dense.weight', 'timesformer.encoder.layer.4.attention.output.dense.bias', 'timesformer.encoder.layer.1.layernorm_before.weight', 'timesformer.encoder.layer.2.layernorm_before.bias', 'timesformer.encoder.layer.2.temporal_layernorm.weight', 'timesformer.encoder.layer.6.attention.output.dense.bias', 'timesformer.encoder.layer.4.temporal_dense.bias', 'timesformer.encoder.layer.3.intermediate.dense.bias', 'timesformer.encoder.layer.9.attention.attention.qkv.weight', 'timesformer.encoder.layer.5.temporal_layernorm.weight', 'timesformer.encoder.layer.4.output.dense.bias', 'timesformer.encoder.layer.4.intermediate.dense.weight', 'timesformer.encoder.layer.11.output.dense.weight', 'timesformer.encoder.layer.3.attention.output.dense.bias', 'timesformer.encoder.layer.7.temporal_attention.output.dense.bias', 'timesformer.encoder.layer.11.temporal_attention.output.dense.weight', 'timesformer.encoder.layer.3.output.dense.bias', 'timesformer.encoder.layer.10.temporal_attention.output.dense.weight', 'timesformer.encoder.layer.10.output.dense.weight', 'timesformer.encoder.layer.6.temporal_layernorm.bias', 'timesformer.encoder.layer.8.output.dense.weight', 'timesformer.encoder.layer.11.attention.attention.qkv.weight', 'timesformer.encoder.layer.11.temporal_dense.bias', 'timesformer.encoder.layer.2.intermediate.dense.bias', 'timesformer.encoder.layer.10.temporal_attention.attention.qkv.bias', 'timesformer.encoder.layer.9.attention.output.dense.weight', 'timesformer.encoder.layer.11.layernorm_before.weight', 'timesformer.encoder.layer.3.temporal_attention.attention.qkv.bias', 'timesformer.encoder.layer.7.temporal_layernorm.bias', 'timesformer.encoder.layer.7.intermediate.dense.weight', 'timesformer.encoder.layer.10.layernorm_after.weight', 'timesformer.encoder.layer.6.temporal_layernorm.weight', 'timesformer.encoder.layer.8.intermediate.dense.bias', 'timesformer.encoder.layer.2.attention.attention.qkv.bias', 'timesformer.encoder.layer.11.intermediate.dense.bias', 'timesformer.encoder.layer.6.temporal_attention.attention.qkv.weight', 'timesformer.encoder.layer.7.temporal_attention.output.dense.weight', 'timesformer.encoder.layer.8.temporal_attention.attention.qkv.bias', 'timesformer.encoder.layer.6.temporal_dense.weight', 'timesformer.encoder.layer.2.intermediate.dense.weight', 'timesformer.encoder.layer.2.temporal_layernorm.bias', 'timesformer.encoder.layer.6.layernorm_before.bias', 'timesformer.encoder.layer.2.layernorm_after.bias', 'timesformer.encoder.layer.2.layernorm_before.weight', 'timesformer.encoder.layer.10.intermediate.dense.weight', 'timesformer.encoder.layer.2.temporal_dense.weight', 'timesformer.encoder.layer.10.attention.output.dense.bias', 'timesformer.encoder.layer.4.layernorm_after.weight', 'timesformer.encoder.layer.3.attention.attention.qkv.weight', 'timesformer.encoder.layer.3.temporal_layernorm.bias', 'timesformer.encoder.layer.10.output.dense.bias', 'timesformer.encoder.layer.4.temporal_attention.attention.qkv.weight', 'timesformer.encoder.layer.7.layernorm_after.weight', 'timesformer.encoder.layer.2.temporal_attention.output.dense.bias', 'timesformer.encoder.layer.1.temporal_layernorm.bias', 'timesformer.encoder.layer.11.layernorm_after.weight', 'timesformer.encoder.layer.1.temporal_attention.attention.qkv.bias', 'timesformer.encoder.layer.9.intermediate.dense.weight', 'timesformer.encoder.layer.5.layernorm_before.bias', 'timesformer.encoder.layer.8.temporal_attention.attention.qkv.weight', 'timesformer.encoder.layer.8.layernorm_before.bias', 'timesformer.encoder.layer.9.output.dense.weight', 'timesformer.encoder.layer.5.attention.output.dense.bias', 'timesformer.encoder.layer.1.layernorm_before.bias', 'timesformer.encoder.layer.3.intermediate.dense.weight', 'timesformer.encoder.layer.6.temporal_dense.bias', 'timesformer.encoder.layer.6.temporal_attention.output.dense.weight', 'timesformer.encoder.layer.8.attention.attention.qkv.bias', 'timesformer.encoder.layer.9.temporal_attention.attention.qkv.weight', 'timesformer.encoder.layer.2.temporal_attention.output.dense.weight', 'timesformer.encoder.layer.11.temporal_attention.attention.qkv.bias', 'timesformer.encoder.layer.9.temporal_layernorm.bias', 'timesformer.encoder.layer.2.temporal_attention.attention.qkv.bias', 'timesformer.encoder.layer.5.attention.attention.qkv.weight', 'timesformer.encoder.layer.7.attention.output.dense.weight', 'timesformer.encoder.layer.1.output.dense.bias', 'timesformer.encoder.layer.8.attention.output.dense.bias', 'timesformer.encoder.layer.4.attention.output.dense.weight', 'timesformer.encoder.layer.8.layernorm_before.weight', 'timesformer.encoder.layer.11.temporal_layernorm.bias', 'timesformer.encoder.layer.1.attention.output.dense.bias', 'timesformer.encoder.layer.8.attention.output.dense.weight', 'timesformer.encoder.layer.5.attention.attention.qkv.bias', 'timesformer.encoder.layer.1.temporal_dense.weight', 'timesformer.encoder.layer.10.layernorm_after.bias', 'timesformer.encoder.layer.4.temporal_layernorm.weight', 'timesformer.encoder.layer.11.layernorm_after.bias', 'timesformer.encoder.layer.7.attention.output.dense.bias', 'timesformer.encoder.layer.8.temporal_dense.weight', 'timesformer.encoder.layer.11.attention.output.dense.bias', 'timesformer.encoder.layer.5.attention.output.dense.weight', 'timesformer.encoder.layer.8.temporal_attention.output.dense.weight', 'timesformer.encoder.layer.10.attention.attention.qkv.bias', 'timesformer.encoder.layer.9.temporal_layernorm.weight', 'timesformer.encoder.layer.5.intermediate.dense.weight', 'timesformer.encoder.layer.1.attention.attention.qkv.bias', 'timesformer.encoder.layer.1.temporal_attention.output.dense.weight', 'timesformer.encoder.layer.8.layernorm_after.weight', 'timesformer.encoder.layer.3.layernorm_after.weight', 'timesformer.encoder.layer.5.output.dense.bias', 'timesformer.encoder.layer.6.temporal_attention.output.dense.bias', 'timesformer.encoder.layer.9.attention.output.dense.bias', 'timesformer.encoder.layer.11.intermediate.dense.weight', 'timesformer.encoder.layer.10.temporal_layernorm.bias', 'timesformer.encoder.layer.7.attention.attention.qkv.bias', 'timesformer.encoder.layer.6.attention.attention.qkv.bias', 'timesformer.encoder.layer.8.output.dense.bias', 'timesformer.encoder.layer.11.temporal_dense.weight', 'timesformer.encoder.layer.9.output.dense.bias', 'timesformer.encoder.layer.8.temporal_dense.bias', 'timesformer.encoder.layer.7.output.dense.weight', 'timesformer.encoder.layer.3.attention.attention.qkv.bias', 'timesformer.encoder.layer.1.intermediate.dense.bias', 'timesformer.encoder.layer.7.attention.attention.qkv.weight', 'timesformer.encoder.layer.8.temporal_layernorm.bias', 'timesformer.encoder.layer.1.temporal_attention.output.dense.bias', 'timesformer.encoder.layer.7.layernorm_before.weight', 'timesformer.encoder.layer.10.temporal_dense.weight', 'timesformer.encoder.layer.2.attention.attention.qkv.weight', 'timesformer.encoder.layer.4.temporal_attention.output.dense.weight', 'timesformer.encoder.layer.9.layernorm_after.bias', 'timesformer.encoder.layer.1.output.dense.weight', 'timesformer.encoder.layer.4.temporal_layernorm.bias', 'timesformer.encoder.layer.10.temporal_dense.bias', 'timesformer.encoder.layer.1.temporal_attention.attention.qkv.weight', 'timesformer.encoder.layer.3.layernorm_after.bias', 'timesformer.encoder.layer.3.temporal_dense.bias', 'timesformer.encoder.layer.9.layernorm_before.weight', 'timesformer.encoder.layer.9.temporal_dense.weight', 'timesformer.encoder.layer.3.layernorm_before.weight', 'timesformer.encoder.layer.7.temporal_dense.bias', 'timesformer.encoder.layer.7.output.dense.bias', 'timesformer.encoder.layer.8.attention.attention.qkv.weight', 'timesformer.encoder.layer.11.temporal_layernorm.weight', 'timesformer.encoder.layer.9.layernorm_after.weight', 'timesformer.encoder.layer.7.temporal_attention.attention.qkv.bias', 'timesformer.encoder.layer.3.temporal_attention.attention.qkv.weight', 'timesformer.encoder.layer.6.intermediate.dense.weight', 'timesformer.encoder.layer.9.attention.attention.qkv.bias', 'timesformer.encoder.layer.11.layernorm_before.bias', 'timesformer.encoder.layer.3.temporal_layernorm.weight', 'timesformer.encoder.layer.1.attention.attention.qkv.weight', 'timesformer.encoder.layer.5.layernorm_after.weight', 'timesformer.encoder.layer.9.temporal_attention.attention.qkv.bias', 'timesformer.encoder.layer.10.layernorm_before.weight', 'timesformer.encoder.layer.7.temporal_attention.attention.qkv.weight', 'timesformer.encoder.layer.1.temporal_layernorm.weight', 'timesformer.encoder.layer.7.layernorm_after.bias', 'timesformer.encoder.layer.4.attention.attention.qkv.bias', 'timesformer.encoder.layer.7.layernorm_before.bias', 'timesformer.encoder.layer.9.temporal_attention.output.dense.weight', 'timesformer.encoder.layer.7.temporal_layernorm.weight', 'timesformer.encoder.layer.5.temporal_attention.attention.qkv.bias', 'timesformer.encoder.layer.3.temporal_attention.output.dense.weight', 'timesformer.encoder.layer.10.layernorm_before.bias', 'timesformer.encoder.layer.11.output.dense.bias', 'timesformer.encoder.layer.8.intermediate.dense.weight', 'timesformer.encoder.layer.6.attention.output.dense.weight', 'timesformer.encoder.layer.10.attention.attention.qkv.weight', 'timesformer.encoder.layer.1.layernorm_after.weight']\n",
            "- This IS expected if you are initializing TimesformerForVideoClassification from the checkpoint of a model trained on another task or with another architecture (e.g. initializing a BertForSequenceClassification model from a BertForPreTraining model).\n",
            "- This IS NOT expected if you are initializing TimesformerForVideoClassification from the checkpoint of a model that you expect to be exactly identical (initializing a BertForSequenceClassification model from a BertForSequenceClassification model).\n"
          ]
        },
        {
          "output_type": "stream",
          "name": "stdout",
          "text": [
            "Num of model layers: 1\n",
            "throwing ball\n",
            "-----------------------------------------------------------------------------------------------------\n"
          ]
        },
        {
          "output_type": "stream",
          "name": "stderr",
          "text": [
            "Some weights of the model checkpoint at facebook/timesformer-base-finetuned-k400 were not used when initializing TimesformerForVideoClassification: ['timesformer.encoder.layer.9.intermediate.dense.bias', 'timesformer.encoder.layer.5.output.dense.weight', 'timesformer.encoder.layer.8.layernorm_after.bias', 'timesformer.encoder.layer.10.attention.output.dense.weight', 'timesformer.encoder.layer.10.temporal_attention.output.dense.bias', 'timesformer.encoder.layer.4.temporal_dense.weight', 'timesformer.encoder.layer.2.output.dense.bias', 'timesformer.encoder.layer.5.temporal_dense.weight', 'timesformer.encoder.layer.8.temporal_attention.output.dense.bias', 'timesformer.encoder.layer.11.attention.output.dense.weight', 'timesformer.encoder.layer.4.temporal_attention.output.dense.bias', 'timesformer.encoder.layer.5.temporal_dense.bias', 'timesformer.encoder.layer.4.layernorm_before.bias', 'timesformer.encoder.layer.4.attention.attention.qkv.weight', 'timesformer.encoder.layer.6.output.dense.weight', 'timesformer.encoder.layer.9.temporal_attention.output.dense.bias', 'timesformer.encoder.layer.4.output.dense.weight', 'timesformer.encoder.layer.5.temporal_attention.output.dense.bias', 'timesformer.encoder.layer.3.output.dense.weight', 'timesformer.encoder.layer.4.temporal_attention.attention.qkv.bias', 'timesformer.encoder.layer.3.layernorm_before.bias', 'timesformer.encoder.layer.2.attention.output.dense.weight', 'timesformer.encoder.layer.6.layernorm_after.bias', 'timesformer.encoder.layer.5.temporal_layernorm.bias', 'timesformer.encoder.layer.6.temporal_attention.attention.qkv.bias', 'timesformer.encoder.layer.2.attention.output.dense.bias', 'timesformer.encoder.layer.2.temporal_attention.attention.qkv.weight', 'timesformer.encoder.layer.2.temporal_dense.bias', 'timesformer.encoder.layer.3.attention.output.dense.weight', 'timesformer.encoder.layer.2.layernorm_after.weight', 'timesformer.encoder.layer.6.output.dense.bias', 'timesformer.encoder.layer.10.temporal_attention.attention.qkv.weight', 'timesformer.encoder.layer.10.intermediate.dense.bias', 'timesformer.encoder.layer.11.attention.attention.qkv.bias', 'timesformer.encoder.layer.9.temporal_dense.bias', 'timesformer.encoder.layer.4.layernorm_before.weight', 'timesformer.encoder.layer.4.layernorm_after.bias', 'timesformer.encoder.layer.5.temporal_attention.attention.qkv.weight', 'timesformer.encoder.layer.5.layernorm_before.weight', 'timesformer.encoder.layer.6.layernorm_before.weight', 'timesformer.encoder.layer.11.temporal_attention.attention.qkv.weight', 'timesformer.encoder.layer.5.layernorm_after.bias', 'timesformer.encoder.layer.5.temporal_attention.output.dense.weight', 'timesformer.encoder.layer.6.attention.attention.qkv.weight', 'timesformer.encoder.layer.6.intermediate.dense.bias', 'timesformer.encoder.layer.3.temporal_dense.weight', 'timesformer.encoder.layer.2.output.dense.weight', 'timesformer.encoder.layer.9.layernorm_before.bias', 'timesformer.encoder.layer.4.intermediate.dense.bias', 'timesformer.encoder.layer.11.temporal_attention.output.dense.bias', 'timesformer.encoder.layer.8.temporal_layernorm.weight', 'timesformer.encoder.layer.10.temporal_layernorm.weight', 'timesformer.encoder.layer.6.layernorm_after.weight', 'timesformer.encoder.layer.7.intermediate.dense.bias', 'timesformer.encoder.layer.3.temporal_attention.output.dense.bias', 'timesformer.encoder.layer.5.intermediate.dense.bias', 'timesformer.encoder.layer.7.temporal_dense.weight', 'timesformer.encoder.layer.4.attention.output.dense.bias', 'timesformer.encoder.layer.2.layernorm_before.bias', 'timesformer.encoder.layer.2.temporal_layernorm.weight', 'timesformer.encoder.layer.6.attention.output.dense.bias', 'timesformer.encoder.layer.4.temporal_dense.bias', 'timesformer.encoder.layer.3.intermediate.dense.bias', 'timesformer.encoder.layer.9.attention.attention.qkv.weight', 'timesformer.encoder.layer.5.temporal_layernorm.weight', 'timesformer.encoder.layer.4.output.dense.bias', 'timesformer.encoder.layer.4.intermediate.dense.weight', 'timesformer.encoder.layer.11.output.dense.weight', 'timesformer.encoder.layer.3.attention.output.dense.bias', 'timesformer.encoder.layer.7.temporal_attention.output.dense.bias', 'timesformer.encoder.layer.11.temporal_attention.output.dense.weight', 'timesformer.encoder.layer.3.output.dense.bias', 'timesformer.encoder.layer.10.temporal_attention.output.dense.weight', 'timesformer.encoder.layer.10.output.dense.weight', 'timesformer.encoder.layer.6.temporal_layernorm.bias', 'timesformer.encoder.layer.8.output.dense.weight', 'timesformer.encoder.layer.11.attention.attention.qkv.weight', 'timesformer.encoder.layer.11.temporal_dense.bias', 'timesformer.encoder.layer.2.intermediate.dense.bias', 'timesformer.encoder.layer.10.temporal_attention.attention.qkv.bias', 'timesformer.encoder.layer.9.attention.output.dense.weight', 'timesformer.encoder.layer.11.layernorm_before.weight', 'timesformer.encoder.layer.3.temporal_attention.attention.qkv.bias', 'timesformer.encoder.layer.7.temporal_layernorm.bias', 'timesformer.encoder.layer.7.intermediate.dense.weight', 'timesformer.encoder.layer.10.layernorm_after.weight', 'timesformer.encoder.layer.6.temporal_layernorm.weight', 'timesformer.encoder.layer.8.intermediate.dense.bias', 'timesformer.encoder.layer.2.attention.attention.qkv.bias', 'timesformer.encoder.layer.11.intermediate.dense.bias', 'timesformer.encoder.layer.6.temporal_attention.attention.qkv.weight', 'timesformer.encoder.layer.7.temporal_attention.output.dense.weight', 'timesformer.encoder.layer.8.temporal_attention.attention.qkv.bias', 'timesformer.encoder.layer.6.temporal_dense.weight', 'timesformer.encoder.layer.2.intermediate.dense.weight', 'timesformer.encoder.layer.2.temporal_layernorm.bias', 'timesformer.encoder.layer.6.layernorm_before.bias', 'timesformer.encoder.layer.2.layernorm_after.bias', 'timesformer.encoder.layer.2.layernorm_before.weight', 'timesformer.encoder.layer.10.intermediate.dense.weight', 'timesformer.encoder.layer.2.temporal_dense.weight', 'timesformer.encoder.layer.10.attention.output.dense.bias', 'timesformer.encoder.layer.4.layernorm_after.weight', 'timesformer.encoder.layer.3.attention.attention.qkv.weight', 'timesformer.encoder.layer.3.temporal_layernorm.bias', 'timesformer.encoder.layer.10.output.dense.bias', 'timesformer.encoder.layer.4.temporal_attention.attention.qkv.weight', 'timesformer.encoder.layer.7.layernorm_after.weight', 'timesformer.encoder.layer.2.temporal_attention.output.dense.bias', 'timesformer.encoder.layer.11.layernorm_after.weight', 'timesformer.encoder.layer.9.intermediate.dense.weight', 'timesformer.encoder.layer.5.layernorm_before.bias', 'timesformer.encoder.layer.8.temporal_attention.attention.qkv.weight', 'timesformer.encoder.layer.8.layernorm_before.bias', 'timesformer.encoder.layer.9.output.dense.weight', 'timesformer.encoder.layer.5.attention.output.dense.bias', 'timesformer.encoder.layer.3.intermediate.dense.weight', 'timesformer.encoder.layer.6.temporal_dense.bias', 'timesformer.encoder.layer.9.temporal_attention.attention.qkv.weight', 'timesformer.encoder.layer.6.temporal_attention.output.dense.weight', 'timesformer.encoder.layer.8.attention.attention.qkv.bias', 'timesformer.encoder.layer.11.temporal_attention.attention.qkv.bias', 'timesformer.encoder.layer.2.temporal_attention.output.dense.weight', 'timesformer.encoder.layer.9.temporal_layernorm.bias', 'timesformer.encoder.layer.2.temporal_attention.attention.qkv.bias', 'timesformer.encoder.layer.5.attention.attention.qkv.weight', 'timesformer.encoder.layer.7.attention.output.dense.weight', 'timesformer.encoder.layer.8.attention.output.dense.bias', 'timesformer.encoder.layer.4.attention.output.dense.weight', 'timesformer.encoder.layer.8.layernorm_before.weight', 'timesformer.encoder.layer.11.temporal_layernorm.bias', 'timesformer.encoder.layer.8.attention.output.dense.weight', 'timesformer.encoder.layer.5.attention.attention.qkv.bias', 'timesformer.encoder.layer.10.layernorm_after.bias', 'timesformer.encoder.layer.4.temporal_layernorm.weight', 'timesformer.encoder.layer.11.layernorm_after.bias', 'timesformer.encoder.layer.7.attention.output.dense.bias', 'timesformer.encoder.layer.8.temporal_dense.weight', 'timesformer.encoder.layer.11.attention.output.dense.bias', 'timesformer.encoder.layer.5.attention.output.dense.weight', 'timesformer.encoder.layer.8.temporal_attention.output.dense.weight', 'timesformer.encoder.layer.10.attention.attention.qkv.bias', 'timesformer.encoder.layer.9.temporal_layernorm.weight', 'timesformer.encoder.layer.5.intermediate.dense.weight', 'timesformer.encoder.layer.8.layernorm_after.weight', 'timesformer.encoder.layer.3.layernorm_after.weight', 'timesformer.encoder.layer.5.output.dense.bias', 'timesformer.encoder.layer.6.temporal_attention.output.dense.bias', 'timesformer.encoder.layer.9.attention.output.dense.bias', 'timesformer.encoder.layer.11.intermediate.dense.weight', 'timesformer.encoder.layer.10.temporal_layernorm.bias', 'timesformer.encoder.layer.7.attention.attention.qkv.bias', 'timesformer.encoder.layer.6.attention.attention.qkv.bias', 'timesformer.encoder.layer.8.output.dense.bias', 'timesformer.encoder.layer.11.temporal_dense.weight', 'timesformer.encoder.layer.9.output.dense.bias', 'timesformer.encoder.layer.8.temporal_dense.bias', 'timesformer.encoder.layer.7.output.dense.weight', 'timesformer.encoder.layer.3.attention.attention.qkv.bias', 'timesformer.encoder.layer.7.attention.attention.qkv.weight', 'timesformer.encoder.layer.8.temporal_layernorm.bias', 'timesformer.encoder.layer.7.layernorm_before.weight', 'timesformer.encoder.layer.10.temporal_dense.weight', 'timesformer.encoder.layer.2.attention.attention.qkv.weight', 'timesformer.encoder.layer.4.temporal_attention.output.dense.weight', 'timesformer.encoder.layer.9.layernorm_after.bias', 'timesformer.encoder.layer.4.temporal_layernorm.bias', 'timesformer.encoder.layer.10.temporal_dense.bias', 'timesformer.encoder.layer.3.layernorm_after.bias', 'timesformer.encoder.layer.3.temporal_dense.bias', 'timesformer.encoder.layer.9.layernorm_before.weight', 'timesformer.encoder.layer.9.temporal_dense.weight', 'timesformer.encoder.layer.3.layernorm_before.weight', 'timesformer.encoder.layer.7.temporal_dense.bias', 'timesformer.encoder.layer.7.output.dense.bias', 'timesformer.encoder.layer.8.attention.attention.qkv.weight', 'timesformer.encoder.layer.11.temporal_layernorm.weight', 'timesformer.encoder.layer.9.layernorm_after.weight', 'timesformer.encoder.layer.7.temporal_attention.attention.qkv.bias', 'timesformer.encoder.layer.3.temporal_attention.attention.qkv.weight', 'timesformer.encoder.layer.6.intermediate.dense.weight', 'timesformer.encoder.layer.9.attention.attention.qkv.bias', 'timesformer.encoder.layer.11.layernorm_before.bias', 'timesformer.encoder.layer.3.temporal_layernorm.weight', 'timesformer.encoder.layer.5.layernorm_after.weight', 'timesformer.encoder.layer.9.temporal_attention.attention.qkv.bias', 'timesformer.encoder.layer.10.layernorm_before.weight', 'timesformer.encoder.layer.7.temporal_attention.attention.qkv.weight', 'timesformer.encoder.layer.7.layernorm_after.bias', 'timesformer.encoder.layer.4.attention.attention.qkv.bias', 'timesformer.encoder.layer.7.layernorm_before.bias', 'timesformer.encoder.layer.9.temporal_attention.output.dense.weight', 'timesformer.encoder.layer.7.temporal_layernorm.weight', 'timesformer.encoder.layer.5.temporal_attention.attention.qkv.bias', 'timesformer.encoder.layer.3.temporal_attention.output.dense.weight', 'timesformer.encoder.layer.10.layernorm_before.bias', 'timesformer.encoder.layer.11.output.dense.bias', 'timesformer.encoder.layer.8.intermediate.dense.weight', 'timesformer.encoder.layer.6.attention.output.dense.weight', 'timesformer.encoder.layer.10.attention.attention.qkv.weight']\n",
            "- This IS expected if you are initializing TimesformerForVideoClassification from the checkpoint of a model trained on another task or with another architecture (e.g. initializing a BertForSequenceClassification model from a BertForPreTraining model).\n",
            "- This IS NOT expected if you are initializing TimesformerForVideoClassification from the checkpoint of a model that you expect to be exactly identical (initializing a BertForSequenceClassification model from a BertForSequenceClassification model).\n"
          ]
        },
        {
          "output_type": "stream",
          "name": "stdout",
          "text": [
            "Num of model layers: 2\n",
            "shaking hands\n",
            "-----------------------------------------------------------------------------------------------------\n"
          ]
        },
        {
          "output_type": "stream",
          "name": "stderr",
          "text": [
            "Some weights of the model checkpoint at facebook/timesformer-base-finetuned-k400 were not used when initializing TimesformerForVideoClassification: ['timesformer.encoder.layer.9.intermediate.dense.bias', 'timesformer.encoder.layer.5.output.dense.weight', 'timesformer.encoder.layer.8.layernorm_after.bias', 'timesformer.encoder.layer.10.temporal_attention.output.dense.bias', 'timesformer.encoder.layer.10.attention.output.dense.weight', 'timesformer.encoder.layer.4.temporal_dense.weight', 'timesformer.encoder.layer.8.temporal_attention.output.dense.bias', 'timesformer.encoder.layer.5.temporal_dense.weight', 'timesformer.encoder.layer.11.attention.output.dense.weight', 'timesformer.encoder.layer.4.temporal_attention.output.dense.bias', 'timesformer.encoder.layer.5.temporal_dense.bias', 'timesformer.encoder.layer.4.layernorm_before.bias', 'timesformer.encoder.layer.4.attention.attention.qkv.weight', 'timesformer.encoder.layer.6.output.dense.weight', 'timesformer.encoder.layer.9.temporal_attention.output.dense.bias', 'timesformer.encoder.layer.4.output.dense.weight', 'timesformer.encoder.layer.5.temporal_attention.output.dense.bias', 'timesformer.encoder.layer.3.output.dense.weight', 'timesformer.encoder.layer.4.temporal_attention.attention.qkv.bias', 'timesformer.encoder.layer.3.layernorm_before.bias', 'timesformer.encoder.layer.6.layernorm_after.bias', 'timesformer.encoder.layer.6.temporal_attention.attention.qkv.bias', 'timesformer.encoder.layer.5.temporal_layernorm.bias', 'timesformer.encoder.layer.3.attention.output.dense.weight', 'timesformer.encoder.layer.6.output.dense.bias', 'timesformer.encoder.layer.10.temporal_attention.attention.qkv.weight', 'timesformer.encoder.layer.10.intermediate.dense.bias', 'timesformer.encoder.layer.11.attention.attention.qkv.bias', 'timesformer.encoder.layer.9.temporal_dense.bias', 'timesformer.encoder.layer.4.layernorm_before.weight', 'timesformer.encoder.layer.4.layernorm_after.bias', 'timesformer.encoder.layer.5.temporal_attention.attention.qkv.weight', 'timesformer.encoder.layer.5.layernorm_before.weight', 'timesformer.encoder.layer.6.layernorm_before.weight', 'timesformer.encoder.layer.11.temporal_attention.attention.qkv.weight', 'timesformer.encoder.layer.5.layernorm_after.bias', 'timesformer.encoder.layer.5.temporal_attention.output.dense.weight', 'timesformer.encoder.layer.6.attention.attention.qkv.weight', 'timesformer.encoder.layer.6.intermediate.dense.bias', 'timesformer.encoder.layer.3.temporal_dense.weight', 'timesformer.encoder.layer.9.layernorm_before.bias', 'timesformer.encoder.layer.4.intermediate.dense.bias', 'timesformer.encoder.layer.11.temporal_attention.output.dense.bias', 'timesformer.encoder.layer.8.temporal_layernorm.weight', 'timesformer.encoder.layer.10.temporal_layernorm.weight', 'timesformer.encoder.layer.6.layernorm_after.weight', 'timesformer.encoder.layer.7.intermediate.dense.bias', 'timesformer.encoder.layer.3.temporal_attention.output.dense.bias', 'timesformer.encoder.layer.5.intermediate.dense.bias', 'timesformer.encoder.layer.7.temporal_dense.weight', 'timesformer.encoder.layer.4.attention.output.dense.bias', 'timesformer.encoder.layer.6.attention.output.dense.bias', 'timesformer.encoder.layer.4.temporal_dense.bias', 'timesformer.encoder.layer.3.intermediate.dense.bias', 'timesformer.encoder.layer.9.attention.attention.qkv.weight', 'timesformer.encoder.layer.5.temporal_layernorm.weight', 'timesformer.encoder.layer.4.output.dense.bias', 'timesformer.encoder.layer.4.intermediate.dense.weight', 'timesformer.encoder.layer.11.output.dense.weight', 'timesformer.encoder.layer.3.attention.output.dense.bias', 'timesformer.encoder.layer.7.temporal_attention.output.dense.bias', 'timesformer.encoder.layer.11.temporal_attention.output.dense.weight', 'timesformer.encoder.layer.3.output.dense.bias', 'timesformer.encoder.layer.10.temporal_attention.output.dense.weight', 'timesformer.encoder.layer.10.output.dense.weight', 'timesformer.encoder.layer.6.temporal_layernorm.bias', 'timesformer.encoder.layer.8.output.dense.weight', 'timesformer.encoder.layer.11.attention.attention.qkv.weight', 'timesformer.encoder.layer.11.temporal_dense.bias', 'timesformer.encoder.layer.10.temporal_attention.attention.qkv.bias', 'timesformer.encoder.layer.9.attention.output.dense.weight', 'timesformer.encoder.layer.11.layernorm_before.weight', 'timesformer.encoder.layer.3.temporal_attention.attention.qkv.bias', 'timesformer.encoder.layer.7.temporal_layernorm.bias', 'timesformer.encoder.layer.7.intermediate.dense.weight', 'timesformer.encoder.layer.10.layernorm_after.weight', 'timesformer.encoder.layer.6.temporal_layernorm.weight', 'timesformer.encoder.layer.8.intermediate.dense.bias', 'timesformer.encoder.layer.11.intermediate.dense.bias', 'timesformer.encoder.layer.6.temporal_attention.attention.qkv.weight', 'timesformer.encoder.layer.7.temporal_attention.output.dense.weight', 'timesformer.encoder.layer.8.temporal_attention.attention.qkv.bias', 'timesformer.encoder.layer.6.temporal_dense.weight', 'timesformer.encoder.layer.6.layernorm_before.bias', 'timesformer.encoder.layer.10.intermediate.dense.weight', 'timesformer.encoder.layer.10.attention.output.dense.bias', 'timesformer.encoder.layer.4.layernorm_after.weight', 'timesformer.encoder.layer.3.attention.attention.qkv.weight', 'timesformer.encoder.layer.3.temporal_layernorm.bias', 'timesformer.encoder.layer.10.output.dense.bias', 'timesformer.encoder.layer.4.temporal_attention.attention.qkv.weight', 'timesformer.encoder.layer.7.layernorm_after.weight', 'timesformer.encoder.layer.11.layernorm_after.weight', 'timesformer.encoder.layer.9.intermediate.dense.weight', 'timesformer.encoder.layer.5.layernorm_before.bias', 'timesformer.encoder.layer.8.temporal_attention.attention.qkv.weight', 'timesformer.encoder.layer.8.layernorm_before.bias', 'timesformer.encoder.layer.9.output.dense.weight', 'timesformer.encoder.layer.5.attention.output.dense.bias', 'timesformer.encoder.layer.3.intermediate.dense.weight', 'timesformer.encoder.layer.6.temporal_dense.bias', 'timesformer.encoder.layer.9.temporal_attention.attention.qkv.weight', 'timesformer.encoder.layer.6.temporal_attention.output.dense.weight', 'timesformer.encoder.layer.8.attention.attention.qkv.bias', 'timesformer.encoder.layer.11.temporal_attention.attention.qkv.bias', 'timesformer.encoder.layer.9.temporal_layernorm.bias', 'timesformer.encoder.layer.5.attention.attention.qkv.weight', 'timesformer.encoder.layer.7.attention.output.dense.weight', 'timesformer.encoder.layer.8.attention.output.dense.bias', 'timesformer.encoder.layer.4.attention.output.dense.weight', 'timesformer.encoder.layer.8.layernorm_before.weight', 'timesformer.encoder.layer.11.temporal_layernorm.bias', 'timesformer.encoder.layer.8.attention.output.dense.weight', 'timesformer.encoder.layer.5.attention.attention.qkv.bias', 'timesformer.encoder.layer.10.layernorm_after.bias', 'timesformer.encoder.layer.4.temporal_layernorm.weight', 'timesformer.encoder.layer.11.layernorm_after.bias', 'timesformer.encoder.layer.7.attention.output.dense.bias', 'timesformer.encoder.layer.8.temporal_dense.weight', 'timesformer.encoder.layer.11.attention.output.dense.bias', 'timesformer.encoder.layer.5.attention.output.dense.weight', 'timesformer.encoder.layer.8.temporal_attention.output.dense.weight', 'timesformer.encoder.layer.10.attention.attention.qkv.bias', 'timesformer.encoder.layer.9.temporal_layernorm.weight', 'timesformer.encoder.layer.5.intermediate.dense.weight', 'timesformer.encoder.layer.8.layernorm_after.weight', 'timesformer.encoder.layer.3.layernorm_after.weight', 'timesformer.encoder.layer.5.output.dense.bias', 'timesformer.encoder.layer.6.temporal_attention.output.dense.bias', 'timesformer.encoder.layer.9.attention.output.dense.bias', 'timesformer.encoder.layer.11.intermediate.dense.weight', 'timesformer.encoder.layer.10.temporal_layernorm.bias', 'timesformer.encoder.layer.7.attention.attention.qkv.bias', 'timesformer.encoder.layer.6.attention.attention.qkv.bias', 'timesformer.encoder.layer.8.output.dense.bias', 'timesformer.encoder.layer.11.temporal_dense.weight', 'timesformer.encoder.layer.9.output.dense.bias', 'timesformer.encoder.layer.8.temporal_dense.bias', 'timesformer.encoder.layer.7.output.dense.weight', 'timesformer.encoder.layer.3.attention.attention.qkv.bias', 'timesformer.encoder.layer.7.attention.attention.qkv.weight', 'timesformer.encoder.layer.8.temporal_layernorm.bias', 'timesformer.encoder.layer.7.layernorm_before.weight', 'timesformer.encoder.layer.10.temporal_dense.weight', 'timesformer.encoder.layer.4.temporal_attention.output.dense.weight', 'timesformer.encoder.layer.9.layernorm_after.bias', 'timesformer.encoder.layer.4.temporal_layernorm.bias', 'timesformer.encoder.layer.10.temporal_dense.bias', 'timesformer.encoder.layer.3.layernorm_after.bias', 'timesformer.encoder.layer.3.temporal_dense.bias', 'timesformer.encoder.layer.9.layernorm_before.weight', 'timesformer.encoder.layer.9.temporal_dense.weight', 'timesformer.encoder.layer.3.layernorm_before.weight', 'timesformer.encoder.layer.7.temporal_dense.bias', 'timesformer.encoder.layer.7.output.dense.bias', 'timesformer.encoder.layer.8.attention.attention.qkv.weight', 'timesformer.encoder.layer.11.temporal_layernorm.weight', 'timesformer.encoder.layer.9.layernorm_after.weight', 'timesformer.encoder.layer.7.temporal_attention.attention.qkv.bias', 'timesformer.encoder.layer.3.temporal_attention.attention.qkv.weight', 'timesformer.encoder.layer.6.intermediate.dense.weight', 'timesformer.encoder.layer.9.attention.attention.qkv.bias', 'timesformer.encoder.layer.11.layernorm_before.bias', 'timesformer.encoder.layer.3.temporal_layernorm.weight', 'timesformer.encoder.layer.5.layernorm_after.weight', 'timesformer.encoder.layer.9.temporal_attention.attention.qkv.bias', 'timesformer.encoder.layer.10.layernorm_before.weight', 'timesformer.encoder.layer.7.temporal_attention.attention.qkv.weight', 'timesformer.encoder.layer.7.layernorm_after.bias', 'timesformer.encoder.layer.4.attention.attention.qkv.bias', 'timesformer.encoder.layer.7.layernorm_before.bias', 'timesformer.encoder.layer.9.temporal_attention.output.dense.weight', 'timesformer.encoder.layer.7.temporal_layernorm.weight', 'timesformer.encoder.layer.5.temporal_attention.attention.qkv.bias', 'timesformer.encoder.layer.3.temporal_attention.output.dense.weight', 'timesformer.encoder.layer.10.layernorm_before.bias', 'timesformer.encoder.layer.11.output.dense.bias', 'timesformer.encoder.layer.8.intermediate.dense.weight', 'timesformer.encoder.layer.6.attention.output.dense.weight', 'timesformer.encoder.layer.10.attention.attention.qkv.weight']\n",
            "- This IS expected if you are initializing TimesformerForVideoClassification from the checkpoint of a model trained on another task or with another architecture (e.g. initializing a BertForSequenceClassification model from a BertForPreTraining model).\n",
            "- This IS NOT expected if you are initializing TimesformerForVideoClassification from the checkpoint of a model that you expect to be exactly identical (initializing a BertForSequenceClassification model from a BertForSequenceClassification model).\n"
          ]
        },
        {
          "output_type": "stream",
          "name": "stdout",
          "text": [
            "Num of model layers: 3\n",
            "carving pumpkin\n",
            "-----------------------------------------------------------------------------------------------------\n"
          ]
        },
        {
          "output_type": "stream",
          "name": "stderr",
          "text": [
            "Some weights of the model checkpoint at facebook/timesformer-base-finetuned-k400 were not used when initializing TimesformerForVideoClassification: ['timesformer.encoder.layer.9.intermediate.dense.bias', 'timesformer.encoder.layer.5.output.dense.weight', 'timesformer.encoder.layer.8.layernorm_after.bias', 'timesformer.encoder.layer.10.temporal_attention.output.dense.bias', 'timesformer.encoder.layer.10.attention.output.dense.weight', 'timesformer.encoder.layer.4.temporal_dense.weight', 'timesformer.encoder.layer.8.temporal_attention.output.dense.bias', 'timesformer.encoder.layer.5.temporal_dense.weight', 'timesformer.encoder.layer.11.attention.output.dense.weight', 'timesformer.encoder.layer.4.temporal_attention.output.dense.bias', 'timesformer.encoder.layer.5.temporal_dense.bias', 'timesformer.encoder.layer.4.layernorm_before.bias', 'timesformer.encoder.layer.4.attention.attention.qkv.weight', 'timesformer.encoder.layer.6.output.dense.weight', 'timesformer.encoder.layer.9.temporal_attention.output.dense.bias', 'timesformer.encoder.layer.4.output.dense.weight', 'timesformer.encoder.layer.5.temporal_attention.output.dense.bias', 'timesformer.encoder.layer.4.temporal_attention.attention.qkv.bias', 'timesformer.encoder.layer.6.temporal_attention.attention.qkv.bias', 'timesformer.encoder.layer.6.layernorm_after.bias', 'timesformer.encoder.layer.5.temporal_layernorm.bias', 'timesformer.encoder.layer.6.output.dense.bias', 'timesformer.encoder.layer.10.temporal_attention.attention.qkv.weight', 'timesformer.encoder.layer.10.intermediate.dense.bias', 'timesformer.encoder.layer.11.attention.attention.qkv.bias', 'timesformer.encoder.layer.9.temporal_dense.bias', 'timesformer.encoder.layer.4.layernorm_before.weight', 'timesformer.encoder.layer.4.layernorm_after.bias', 'timesformer.encoder.layer.5.temporal_attention.attention.qkv.weight', 'timesformer.encoder.layer.5.layernorm_before.weight', 'timesformer.encoder.layer.6.layernorm_before.weight', 'timesformer.encoder.layer.11.temporal_attention.attention.qkv.weight', 'timesformer.encoder.layer.5.layernorm_after.bias', 'timesformer.encoder.layer.5.temporal_attention.output.dense.weight', 'timesformer.encoder.layer.6.attention.attention.qkv.weight', 'timesformer.encoder.layer.6.intermediate.dense.bias', 'timesformer.encoder.layer.9.layernorm_before.bias', 'timesformer.encoder.layer.4.intermediate.dense.bias', 'timesformer.encoder.layer.11.temporal_attention.output.dense.bias', 'timesformer.encoder.layer.8.temporal_layernorm.weight', 'timesformer.encoder.layer.10.temporal_layernorm.weight', 'timesformer.encoder.layer.6.layernorm_after.weight', 'timesformer.encoder.layer.7.intermediate.dense.bias', 'timesformer.encoder.layer.5.intermediate.dense.bias', 'timesformer.encoder.layer.7.temporal_dense.weight', 'timesformer.encoder.layer.4.attention.output.dense.bias', 'timesformer.encoder.layer.6.attention.output.dense.bias', 'timesformer.encoder.layer.4.temporal_dense.bias', 'timesformer.encoder.layer.9.attention.attention.qkv.weight', 'timesformer.encoder.layer.5.temporal_layernorm.weight', 'timesformer.encoder.layer.4.output.dense.bias', 'timesformer.encoder.layer.4.intermediate.dense.weight', 'timesformer.encoder.layer.11.output.dense.weight', 'timesformer.encoder.layer.7.temporal_attention.output.dense.bias', 'timesformer.encoder.layer.11.temporal_attention.output.dense.weight', 'timesformer.encoder.layer.10.temporal_attention.output.dense.weight', 'timesformer.encoder.layer.10.output.dense.weight', 'timesformer.encoder.layer.6.temporal_layernorm.bias', 'timesformer.encoder.layer.8.output.dense.weight', 'timesformer.encoder.layer.11.attention.attention.qkv.weight', 'timesformer.encoder.layer.11.temporal_dense.bias', 'timesformer.encoder.layer.10.temporal_attention.attention.qkv.bias', 'timesformer.encoder.layer.9.attention.output.dense.weight', 'timesformer.encoder.layer.11.layernorm_before.weight', 'timesformer.encoder.layer.7.temporal_layernorm.bias', 'timesformer.encoder.layer.7.intermediate.dense.weight', 'timesformer.encoder.layer.10.layernorm_after.weight', 'timesformer.encoder.layer.6.temporal_layernorm.weight', 'timesformer.encoder.layer.11.intermediate.dense.bias', 'timesformer.encoder.layer.8.intermediate.dense.bias', 'timesformer.encoder.layer.6.temporal_attention.attention.qkv.weight', 'timesformer.encoder.layer.7.temporal_attention.output.dense.weight', 'timesformer.encoder.layer.8.temporal_attention.attention.qkv.bias', 'timesformer.encoder.layer.6.temporal_dense.weight', 'timesformer.encoder.layer.6.layernorm_before.bias', 'timesformer.encoder.layer.10.intermediate.dense.weight', 'timesformer.encoder.layer.10.attention.output.dense.bias', 'timesformer.encoder.layer.4.layernorm_after.weight', 'timesformer.encoder.layer.10.output.dense.bias', 'timesformer.encoder.layer.4.temporal_attention.attention.qkv.weight', 'timesformer.encoder.layer.7.layernorm_after.weight', 'timesformer.encoder.layer.11.layernorm_after.weight', 'timesformer.encoder.layer.9.intermediate.dense.weight', 'timesformer.encoder.layer.5.layernorm_before.bias', 'timesformer.encoder.layer.8.temporal_attention.attention.qkv.weight', 'timesformer.encoder.layer.8.layernorm_before.bias', 'timesformer.encoder.layer.9.output.dense.weight', 'timesformer.encoder.layer.5.attention.output.dense.bias', 'timesformer.encoder.layer.6.temporal_dense.bias', 'timesformer.encoder.layer.9.temporal_attention.attention.qkv.weight', 'timesformer.encoder.layer.6.temporal_attention.output.dense.weight', 'timesformer.encoder.layer.8.attention.attention.qkv.bias', 'timesformer.encoder.layer.11.temporal_attention.attention.qkv.bias', 'timesformer.encoder.layer.9.temporal_layernorm.bias', 'timesformer.encoder.layer.5.attention.attention.qkv.weight', 'timesformer.encoder.layer.7.attention.output.dense.weight', 'timesformer.encoder.layer.8.attention.output.dense.bias', 'timesformer.encoder.layer.4.attention.output.dense.weight', 'timesformer.encoder.layer.8.layernorm_before.weight', 'timesformer.encoder.layer.11.temporal_layernorm.bias', 'timesformer.encoder.layer.8.attention.output.dense.weight', 'timesformer.encoder.layer.5.attention.attention.qkv.bias', 'timesformer.encoder.layer.10.layernorm_after.bias', 'timesformer.encoder.layer.4.temporal_layernorm.weight', 'timesformer.encoder.layer.11.layernorm_after.bias', 'timesformer.encoder.layer.7.attention.output.dense.bias', 'timesformer.encoder.layer.8.temporal_dense.weight', 'timesformer.encoder.layer.11.attention.output.dense.bias', 'timesformer.encoder.layer.5.attention.output.dense.weight', 'timesformer.encoder.layer.8.temporal_attention.output.dense.weight', 'timesformer.encoder.layer.10.attention.attention.qkv.bias', 'timesformer.encoder.layer.9.temporal_layernorm.weight', 'timesformer.encoder.layer.5.intermediate.dense.weight', 'timesformer.encoder.layer.8.layernorm_after.weight', 'timesformer.encoder.layer.5.output.dense.bias', 'timesformer.encoder.layer.6.temporal_attention.output.dense.bias', 'timesformer.encoder.layer.9.attention.output.dense.bias', 'timesformer.encoder.layer.11.intermediate.dense.weight', 'timesformer.encoder.layer.10.temporal_layernorm.bias', 'timesformer.encoder.layer.7.attention.attention.qkv.bias', 'timesformer.encoder.layer.6.attention.attention.qkv.bias', 'timesformer.encoder.layer.8.output.dense.bias', 'timesformer.encoder.layer.11.temporal_dense.weight', 'timesformer.encoder.layer.9.output.dense.bias', 'timesformer.encoder.layer.8.temporal_dense.bias', 'timesformer.encoder.layer.7.output.dense.weight', 'timesformer.encoder.layer.7.attention.attention.qkv.weight', 'timesformer.encoder.layer.8.temporal_layernorm.bias', 'timesformer.encoder.layer.7.layernorm_before.weight', 'timesformer.encoder.layer.10.temporal_dense.weight', 'timesformer.encoder.layer.4.temporal_attention.output.dense.weight', 'timesformer.encoder.layer.9.layernorm_after.bias', 'timesformer.encoder.layer.4.temporal_layernorm.bias', 'timesformer.encoder.layer.10.temporal_dense.bias', 'timesformer.encoder.layer.9.layernorm_before.weight', 'timesformer.encoder.layer.9.temporal_dense.weight', 'timesformer.encoder.layer.7.temporal_dense.bias', 'timesformer.encoder.layer.7.output.dense.bias', 'timesformer.encoder.layer.8.attention.attention.qkv.weight', 'timesformer.encoder.layer.11.temporal_layernorm.weight', 'timesformer.encoder.layer.9.layernorm_after.weight', 'timesformer.encoder.layer.7.temporal_attention.attention.qkv.bias', 'timesformer.encoder.layer.6.intermediate.dense.weight', 'timesformer.encoder.layer.9.attention.attention.qkv.bias', 'timesformer.encoder.layer.11.layernorm_before.bias', 'timesformer.encoder.layer.5.layernorm_after.weight', 'timesformer.encoder.layer.9.temporal_attention.attention.qkv.bias', 'timesformer.encoder.layer.10.layernorm_before.weight', 'timesformer.encoder.layer.7.temporal_attention.attention.qkv.weight', 'timesformer.encoder.layer.7.layernorm_after.bias', 'timesformer.encoder.layer.4.attention.attention.qkv.bias', 'timesformer.encoder.layer.7.layernorm_before.bias', 'timesformer.encoder.layer.9.temporal_attention.output.dense.weight', 'timesformer.encoder.layer.7.temporal_layernorm.weight', 'timesformer.encoder.layer.5.temporal_attention.attention.qkv.bias', 'timesformer.encoder.layer.10.layernorm_before.bias', 'timesformer.encoder.layer.11.output.dense.bias', 'timesformer.encoder.layer.8.intermediate.dense.weight', 'timesformer.encoder.layer.6.attention.output.dense.weight', 'timesformer.encoder.layer.10.attention.attention.qkv.weight']\n",
            "- This IS expected if you are initializing TimesformerForVideoClassification from the checkpoint of a model trained on another task or with another architecture (e.g. initializing a BertForSequenceClassification model from a BertForPreTraining model).\n",
            "- This IS NOT expected if you are initializing TimesformerForVideoClassification from the checkpoint of a model that you expect to be exactly identical (initializing a BertForSequenceClassification model from a BertForSequenceClassification model).\n"
          ]
        },
        {
          "output_type": "stream",
          "name": "stdout",
          "text": [
            "Num of model layers: 4\n",
            "pumping fist\n",
            "-----------------------------------------------------------------------------------------------------\n"
          ]
        },
        {
          "output_type": "stream",
          "name": "stderr",
          "text": [
            "Some weights of the model checkpoint at facebook/timesformer-base-finetuned-k400 were not used when initializing TimesformerForVideoClassification: ['timesformer.encoder.layer.9.intermediate.dense.bias', 'timesformer.encoder.layer.5.output.dense.weight', 'timesformer.encoder.layer.8.layernorm_after.bias', 'timesformer.encoder.layer.10.temporal_attention.output.dense.bias', 'timesformer.encoder.layer.10.attention.output.dense.weight', 'timesformer.encoder.layer.8.temporal_attention.output.dense.bias', 'timesformer.encoder.layer.5.temporal_dense.weight', 'timesformer.encoder.layer.11.attention.output.dense.weight', 'timesformer.encoder.layer.5.temporal_dense.bias', 'timesformer.encoder.layer.6.output.dense.weight', 'timesformer.encoder.layer.9.temporal_attention.output.dense.bias', 'timesformer.encoder.layer.5.temporal_attention.output.dense.bias', 'timesformer.encoder.layer.6.temporal_attention.attention.qkv.bias', 'timesformer.encoder.layer.6.layernorm_after.bias', 'timesformer.encoder.layer.5.temporal_layernorm.bias', 'timesformer.encoder.layer.6.output.dense.bias', 'timesformer.encoder.layer.10.temporal_attention.attention.qkv.weight', 'timesformer.encoder.layer.10.intermediate.dense.bias', 'timesformer.encoder.layer.11.attention.attention.qkv.bias', 'timesformer.encoder.layer.9.temporal_dense.bias', 'timesformer.encoder.layer.5.temporal_attention.attention.qkv.weight', 'timesformer.encoder.layer.5.layernorm_before.weight', 'timesformer.encoder.layer.6.layernorm_before.weight', 'timesformer.encoder.layer.11.temporal_attention.attention.qkv.weight', 'timesformer.encoder.layer.5.layernorm_after.bias', 'timesformer.encoder.layer.5.temporal_attention.output.dense.weight', 'timesformer.encoder.layer.6.attention.attention.qkv.weight', 'timesformer.encoder.layer.6.intermediate.dense.bias', 'timesformer.encoder.layer.9.layernorm_before.bias', 'timesformer.encoder.layer.11.temporal_attention.output.dense.bias', 'timesformer.encoder.layer.8.temporal_layernorm.weight', 'timesformer.encoder.layer.10.temporal_layernorm.weight', 'timesformer.encoder.layer.6.layernorm_after.weight', 'timesformer.encoder.layer.7.intermediate.dense.bias', 'timesformer.encoder.layer.5.intermediate.dense.bias', 'timesformer.encoder.layer.7.temporal_dense.weight', 'timesformer.encoder.layer.6.attention.output.dense.bias', 'timesformer.encoder.layer.9.attention.attention.qkv.weight', 'timesformer.encoder.layer.5.temporal_layernorm.weight', 'timesformer.encoder.layer.11.output.dense.weight', 'timesformer.encoder.layer.7.temporal_attention.output.dense.bias', 'timesformer.encoder.layer.11.temporal_attention.output.dense.weight', 'timesformer.encoder.layer.10.temporal_attention.output.dense.weight', 'timesformer.encoder.layer.10.output.dense.weight', 'timesformer.encoder.layer.6.temporal_layernorm.bias', 'timesformer.encoder.layer.8.output.dense.weight', 'timesformer.encoder.layer.11.attention.attention.qkv.weight', 'timesformer.encoder.layer.11.temporal_dense.bias', 'timesformer.encoder.layer.10.temporal_attention.attention.qkv.bias', 'timesformer.encoder.layer.9.attention.output.dense.weight', 'timesformer.encoder.layer.11.layernorm_before.weight', 'timesformer.encoder.layer.7.temporal_layernorm.bias', 'timesformer.encoder.layer.7.intermediate.dense.weight', 'timesformer.encoder.layer.10.layernorm_after.weight', 'timesformer.encoder.layer.6.temporal_layernorm.weight', 'timesformer.encoder.layer.11.intermediate.dense.bias', 'timesformer.encoder.layer.8.intermediate.dense.bias', 'timesformer.encoder.layer.6.temporal_attention.attention.qkv.weight', 'timesformer.encoder.layer.7.temporal_attention.output.dense.weight', 'timesformer.encoder.layer.8.temporal_attention.attention.qkv.bias', 'timesformer.encoder.layer.6.temporal_dense.weight', 'timesformer.encoder.layer.6.layernorm_before.bias', 'timesformer.encoder.layer.10.intermediate.dense.weight', 'timesformer.encoder.layer.10.attention.output.dense.bias', 'timesformer.encoder.layer.10.output.dense.bias', 'timesformer.encoder.layer.7.layernorm_after.weight', 'timesformer.encoder.layer.11.layernorm_after.weight', 'timesformer.encoder.layer.9.intermediate.dense.weight', 'timesformer.encoder.layer.5.layernorm_before.bias', 'timesformer.encoder.layer.8.temporal_attention.attention.qkv.weight', 'timesformer.encoder.layer.8.layernorm_before.bias', 'timesformer.encoder.layer.9.output.dense.weight', 'timesformer.encoder.layer.5.attention.output.dense.bias', 'timesformer.encoder.layer.6.temporal_dense.bias', 'timesformer.encoder.layer.9.temporal_attention.attention.qkv.weight', 'timesformer.encoder.layer.6.temporal_attention.output.dense.weight', 'timesformer.encoder.layer.8.attention.attention.qkv.bias', 'timesformer.encoder.layer.11.temporal_attention.attention.qkv.bias', 'timesformer.encoder.layer.9.temporal_layernorm.bias', 'timesformer.encoder.layer.5.attention.attention.qkv.weight', 'timesformer.encoder.layer.7.attention.output.dense.weight', 'timesformer.encoder.layer.8.attention.output.dense.bias', 'timesformer.encoder.layer.11.temporal_layernorm.bias', 'timesformer.encoder.layer.8.layernorm_before.weight', 'timesformer.encoder.layer.8.attention.output.dense.weight', 'timesformer.encoder.layer.5.attention.attention.qkv.bias', 'timesformer.encoder.layer.10.layernorm_after.bias', 'timesformer.encoder.layer.11.layernorm_after.bias', 'timesformer.encoder.layer.7.attention.output.dense.bias', 'timesformer.encoder.layer.8.temporal_dense.weight', 'timesformer.encoder.layer.11.attention.output.dense.bias', 'timesformer.encoder.layer.5.attention.output.dense.weight', 'timesformer.encoder.layer.8.temporal_attention.output.dense.weight', 'timesformer.encoder.layer.10.attention.attention.qkv.bias', 'timesformer.encoder.layer.9.temporal_layernorm.weight', 'timesformer.encoder.layer.5.intermediate.dense.weight', 'timesformer.encoder.layer.8.layernorm_after.weight', 'timesformer.encoder.layer.5.output.dense.bias', 'timesformer.encoder.layer.6.temporal_attention.output.dense.bias', 'timesformer.encoder.layer.9.attention.output.dense.bias', 'timesformer.encoder.layer.11.intermediate.dense.weight', 'timesformer.encoder.layer.10.temporal_layernorm.bias', 'timesformer.encoder.layer.7.attention.attention.qkv.bias', 'timesformer.encoder.layer.6.attention.attention.qkv.bias', 'timesformer.encoder.layer.8.output.dense.bias', 'timesformer.encoder.layer.11.temporal_dense.weight', 'timesformer.encoder.layer.9.output.dense.bias', 'timesformer.encoder.layer.8.temporal_dense.bias', 'timesformer.encoder.layer.7.output.dense.weight', 'timesformer.encoder.layer.7.attention.attention.qkv.weight', 'timesformer.encoder.layer.8.temporal_layernorm.bias', 'timesformer.encoder.layer.7.layernorm_before.weight', 'timesformer.encoder.layer.10.temporal_dense.weight', 'timesformer.encoder.layer.9.layernorm_after.bias', 'timesformer.encoder.layer.10.temporal_dense.bias', 'timesformer.encoder.layer.9.layernorm_before.weight', 'timesformer.encoder.layer.9.temporal_dense.weight', 'timesformer.encoder.layer.7.temporal_dense.bias', 'timesformer.encoder.layer.7.output.dense.bias', 'timesformer.encoder.layer.8.attention.attention.qkv.weight', 'timesformer.encoder.layer.11.temporal_layernorm.weight', 'timesformer.encoder.layer.9.layernorm_after.weight', 'timesformer.encoder.layer.7.temporal_attention.attention.qkv.bias', 'timesformer.encoder.layer.6.intermediate.dense.weight', 'timesformer.encoder.layer.9.attention.attention.qkv.bias', 'timesformer.encoder.layer.11.layernorm_before.bias', 'timesformer.encoder.layer.5.layernorm_after.weight', 'timesformer.encoder.layer.9.temporal_attention.attention.qkv.bias', 'timesformer.encoder.layer.10.layernorm_before.weight', 'timesformer.encoder.layer.7.temporal_attention.attention.qkv.weight', 'timesformer.encoder.layer.7.layernorm_after.bias', 'timesformer.encoder.layer.7.layernorm_before.bias', 'timesformer.encoder.layer.9.temporal_attention.output.dense.weight', 'timesformer.encoder.layer.7.temporal_layernorm.weight', 'timesformer.encoder.layer.5.temporal_attention.attention.qkv.bias', 'timesformer.encoder.layer.10.layernorm_before.bias', 'timesformer.encoder.layer.11.output.dense.bias', 'timesformer.encoder.layer.8.intermediate.dense.weight', 'timesformer.encoder.layer.6.attention.output.dense.weight', 'timesformer.encoder.layer.10.attention.attention.qkv.weight']\n",
            "- This IS expected if you are initializing TimesformerForVideoClassification from the checkpoint of a model trained on another task or with another architecture (e.g. initializing a BertForSequenceClassification model from a BertForPreTraining model).\n",
            "- This IS NOT expected if you are initializing TimesformerForVideoClassification from the checkpoint of a model that you expect to be exactly identical (initializing a BertForSequenceClassification model from a BertForSequenceClassification model).\n"
          ]
        },
        {
          "output_type": "stream",
          "name": "stdout",
          "text": [
            "Num of model layers: 5\n",
            "pumping fist\n",
            "-----------------------------------------------------------------------------------------------------\n"
          ]
        },
        {
          "output_type": "stream",
          "name": "stderr",
          "text": [
            "Some weights of the model checkpoint at facebook/timesformer-base-finetuned-k400 were not used when initializing TimesformerForVideoClassification: ['timesformer.encoder.layer.9.intermediate.dense.bias', 'timesformer.encoder.layer.10.temporal_attention.output.dense.bias', 'timesformer.encoder.layer.8.layernorm_after.bias', 'timesformer.encoder.layer.10.attention.output.dense.weight', 'timesformer.encoder.layer.6.temporal_dense.bias', 'timesformer.encoder.layer.9.temporal_attention.attention.qkv.weight', 'timesformer.encoder.layer.6.temporal_attention.output.dense.weight', 'timesformer.encoder.layer.8.attention.attention.qkv.bias', 'timesformer.encoder.layer.11.temporal_attention.attention.qkv.bias', 'timesformer.encoder.layer.9.temporal_layernorm.bias', 'timesformer.encoder.layer.8.temporal_attention.output.dense.bias', 'timesformer.encoder.layer.11.attention.output.dense.weight', 'timesformer.encoder.layer.7.attention.output.dense.weight', 'timesformer.encoder.layer.8.attention.output.dense.bias', 'timesformer.encoder.layer.11.temporal_layernorm.bias', 'timesformer.encoder.layer.6.output.dense.weight', 'timesformer.encoder.layer.8.layernorm_before.weight', 'timesformer.encoder.layer.9.temporal_attention.output.dense.bias', 'timesformer.encoder.layer.8.attention.output.dense.weight', 'timesformer.encoder.layer.6.temporal_attention.attention.qkv.bias', 'timesformer.encoder.layer.6.layernorm_after.bias', 'timesformer.encoder.layer.10.layernorm_after.bias', 'timesformer.encoder.layer.11.layernorm_after.bias', 'timesformer.encoder.layer.7.attention.output.dense.bias', 'timesformer.encoder.layer.8.temporal_dense.weight', 'timesformer.encoder.layer.11.attention.output.dense.bias', 'timesformer.encoder.layer.6.output.dense.bias', 'timesformer.encoder.layer.10.temporal_attention.attention.qkv.weight', 'timesformer.encoder.layer.10.intermediate.dense.bias', 'timesformer.encoder.layer.11.attention.attention.qkv.bias', 'timesformer.encoder.layer.8.temporal_attention.output.dense.weight', 'timesformer.encoder.layer.9.temporal_dense.bias', 'timesformer.encoder.layer.10.attention.attention.qkv.bias', 'timesformer.encoder.layer.9.temporal_layernorm.weight', 'timesformer.encoder.layer.6.layernorm_before.weight', 'timesformer.encoder.layer.11.temporal_attention.attention.qkv.weight', 'timesformer.encoder.layer.6.attention.attention.qkv.weight', 'timesformer.encoder.layer.8.layernorm_after.weight', 'timesformer.encoder.layer.6.intermediate.dense.bias', 'timesformer.encoder.layer.6.temporal_attention.output.dense.bias', 'timesformer.encoder.layer.9.attention.output.dense.bias', 'timesformer.encoder.layer.9.layernorm_before.bias', 'timesformer.encoder.layer.11.intermediate.dense.weight', 'timesformer.encoder.layer.10.temporal_layernorm.bias', 'timesformer.encoder.layer.11.temporal_attention.output.dense.bias', 'timesformer.encoder.layer.8.temporal_layernorm.weight', 'timesformer.encoder.layer.10.temporal_layernorm.weight', 'timesformer.encoder.layer.6.layernorm_after.weight', 'timesformer.encoder.layer.7.intermediate.dense.bias', 'timesformer.encoder.layer.7.attention.attention.qkv.bias', 'timesformer.encoder.layer.6.attention.attention.qkv.bias', 'timesformer.encoder.layer.8.output.dense.bias', 'timesformer.encoder.layer.7.temporal_dense.weight', 'timesformer.encoder.layer.11.temporal_dense.weight', 'timesformer.encoder.layer.9.output.dense.bias', 'timesformer.encoder.layer.8.temporal_dense.bias', 'timesformer.encoder.layer.7.output.dense.weight', 'timesformer.encoder.layer.7.attention.attention.qkv.weight', 'timesformer.encoder.layer.8.temporal_layernorm.bias', 'timesformer.encoder.layer.6.attention.output.dense.bias', 'timesformer.encoder.layer.7.layernorm_before.weight', 'timesformer.encoder.layer.9.attention.attention.qkv.weight', 'timesformer.encoder.layer.10.temporal_dense.weight', 'timesformer.encoder.layer.9.layernorm_after.bias', 'timesformer.encoder.layer.10.temporal_dense.bias', 'timesformer.encoder.layer.11.output.dense.weight', 'timesformer.encoder.layer.7.temporal_attention.output.dense.bias', 'timesformer.encoder.layer.9.layernorm_before.weight', 'timesformer.encoder.layer.9.temporal_dense.weight', 'timesformer.encoder.layer.11.temporal_attention.output.dense.weight', 'timesformer.encoder.layer.10.temporal_attention.output.dense.weight', 'timesformer.encoder.layer.7.temporal_dense.bias', 'timesformer.encoder.layer.7.output.dense.bias', 'timesformer.encoder.layer.8.attention.attention.qkv.weight', 'timesformer.encoder.layer.11.temporal_layernorm.weight', 'timesformer.encoder.layer.9.layernorm_after.weight', 'timesformer.encoder.layer.7.temporal_attention.attention.qkv.bias', 'timesformer.encoder.layer.10.output.dense.weight', 'timesformer.encoder.layer.6.temporal_layernorm.bias', 'timesformer.encoder.layer.8.output.dense.weight', 'timesformer.encoder.layer.11.attention.attention.qkv.weight', 'timesformer.encoder.layer.11.temporal_dense.bias', 'timesformer.encoder.layer.10.temporal_attention.attention.qkv.bias', 'timesformer.encoder.layer.6.intermediate.dense.weight', 'timesformer.encoder.layer.9.attention.output.dense.weight', 'timesformer.encoder.layer.11.layernorm_before.weight', 'timesformer.encoder.layer.7.temporal_layernorm.bias', 'timesformer.encoder.layer.9.attention.attention.qkv.bias', 'timesformer.encoder.layer.11.layernorm_before.bias', 'timesformer.encoder.layer.7.intermediate.dense.weight', 'timesformer.encoder.layer.10.layernorm_after.weight', 'timesformer.encoder.layer.6.temporal_layernorm.weight', 'timesformer.encoder.layer.8.intermediate.dense.bias', 'timesformer.encoder.layer.11.intermediate.dense.bias', 'timesformer.encoder.layer.9.temporal_attention.attention.qkv.bias', 'timesformer.encoder.layer.6.temporal_attention.attention.qkv.weight', 'timesformer.encoder.layer.7.temporal_attention.output.dense.weight', 'timesformer.encoder.layer.8.temporal_attention.attention.qkv.bias', 'timesformer.encoder.layer.10.layernorm_before.weight', 'timesformer.encoder.layer.6.temporal_dense.weight', 'timesformer.encoder.layer.7.temporal_attention.attention.qkv.weight', 'timesformer.encoder.layer.6.layernorm_before.bias', 'timesformer.encoder.layer.7.layernorm_after.bias', 'timesformer.encoder.layer.10.intermediate.dense.weight', 'timesformer.encoder.layer.7.layernorm_before.bias', 'timesformer.encoder.layer.9.temporal_attention.output.dense.weight', 'timesformer.encoder.layer.10.attention.output.dense.bias', 'timesformer.encoder.layer.7.temporal_layernorm.weight', 'timesformer.encoder.layer.10.output.dense.bias', 'timesformer.encoder.layer.7.layernorm_after.weight', 'timesformer.encoder.layer.11.layernorm_after.weight', 'timesformer.encoder.layer.10.layernorm_before.bias', 'timesformer.encoder.layer.9.intermediate.dense.weight', 'timesformer.encoder.layer.11.output.dense.bias', 'timesformer.encoder.layer.8.intermediate.dense.weight', 'timesformer.encoder.layer.6.attention.output.dense.weight', 'timesformer.encoder.layer.10.attention.attention.qkv.weight', 'timesformer.encoder.layer.8.temporal_attention.attention.qkv.weight', 'timesformer.encoder.layer.8.layernorm_before.bias', 'timesformer.encoder.layer.9.output.dense.weight']\n",
            "- This IS expected if you are initializing TimesformerForVideoClassification from the checkpoint of a model trained on another task or with another architecture (e.g. initializing a BertForSequenceClassification model from a BertForPreTraining model).\n",
            "- This IS NOT expected if you are initializing TimesformerForVideoClassification from the checkpoint of a model that you expect to be exactly identical (initializing a BertForSequenceClassification model from a BertForSequenceClassification model).\n"
          ]
        },
        {
          "output_type": "stream",
          "name": "stdout",
          "text": [
            "Num of model layers: 6\n",
            "carving pumpkin\n",
            "-----------------------------------------------------------------------------------------------------\n"
          ]
        },
        {
          "output_type": "stream",
          "name": "stderr",
          "text": [
            "Some weights of the model checkpoint at facebook/timesformer-base-finetuned-k400 were not used when initializing TimesformerForVideoClassification: ['timesformer.encoder.layer.9.intermediate.dense.bias', 'timesformer.encoder.layer.10.temporal_attention.output.dense.bias', 'timesformer.encoder.layer.8.layernorm_after.bias', 'timesformer.encoder.layer.10.attention.output.dense.weight', 'timesformer.encoder.layer.9.temporal_attention.attention.qkv.weight', 'timesformer.encoder.layer.11.temporal_attention.attention.qkv.bias', 'timesformer.encoder.layer.8.attention.attention.qkv.bias', 'timesformer.encoder.layer.9.temporal_layernorm.bias', 'timesformer.encoder.layer.8.temporal_attention.output.dense.bias', 'timesformer.encoder.layer.11.attention.output.dense.weight', 'timesformer.encoder.layer.7.attention.output.dense.weight', 'timesformer.encoder.layer.8.attention.output.dense.bias', 'timesformer.encoder.layer.11.temporal_layernorm.bias', 'timesformer.encoder.layer.8.layernorm_before.weight', 'timesformer.encoder.layer.9.temporal_attention.output.dense.bias', 'timesformer.encoder.layer.8.attention.output.dense.weight', 'timesformer.encoder.layer.10.layernorm_after.bias', 'timesformer.encoder.layer.11.layernorm_after.bias', 'timesformer.encoder.layer.7.attention.output.dense.bias', 'timesformer.encoder.layer.8.temporal_dense.weight', 'timesformer.encoder.layer.11.attention.output.dense.bias', 'timesformer.encoder.layer.10.temporal_attention.attention.qkv.weight', 'timesformer.encoder.layer.10.intermediate.dense.bias', 'timesformer.encoder.layer.11.attention.attention.qkv.bias', 'timesformer.encoder.layer.8.temporal_attention.output.dense.weight', 'timesformer.encoder.layer.9.temporal_dense.bias', 'timesformer.encoder.layer.10.attention.attention.qkv.bias', 'timesformer.encoder.layer.9.temporal_layernorm.weight', 'timesformer.encoder.layer.11.temporal_attention.attention.qkv.weight', 'timesformer.encoder.layer.8.layernorm_after.weight', 'timesformer.encoder.layer.9.attention.output.dense.bias', 'timesformer.encoder.layer.9.layernorm_before.bias', 'timesformer.encoder.layer.11.intermediate.dense.weight', 'timesformer.encoder.layer.10.temporal_layernorm.bias', 'timesformer.encoder.layer.11.temporal_attention.output.dense.bias', 'timesformer.encoder.layer.8.temporal_layernorm.weight', 'timesformer.encoder.layer.10.temporal_layernorm.weight', 'timesformer.encoder.layer.7.intermediate.dense.bias', 'timesformer.encoder.layer.7.attention.attention.qkv.bias', 'timesformer.encoder.layer.8.output.dense.bias', 'timesformer.encoder.layer.7.temporal_dense.weight', 'timesformer.encoder.layer.11.temporal_dense.weight', 'timesformer.encoder.layer.9.output.dense.bias', 'timesformer.encoder.layer.8.temporal_dense.bias', 'timesformer.encoder.layer.7.output.dense.weight', 'timesformer.encoder.layer.7.attention.attention.qkv.weight', 'timesformer.encoder.layer.8.temporal_layernorm.bias', 'timesformer.encoder.layer.7.layernorm_before.weight', 'timesformer.encoder.layer.9.attention.attention.qkv.weight', 'timesformer.encoder.layer.10.temporal_dense.weight', 'timesformer.encoder.layer.9.layernorm_after.bias', 'timesformer.encoder.layer.10.temporal_dense.bias', 'timesformer.encoder.layer.11.output.dense.weight', 'timesformer.encoder.layer.7.temporal_attention.output.dense.bias', 'timesformer.encoder.layer.9.layernorm_before.weight', 'timesformer.encoder.layer.9.temporal_dense.weight', 'timesformer.encoder.layer.11.temporal_attention.output.dense.weight', 'timesformer.encoder.layer.10.temporal_attention.output.dense.weight', 'timesformer.encoder.layer.7.temporal_dense.bias', 'timesformer.encoder.layer.7.output.dense.bias', 'timesformer.encoder.layer.8.attention.attention.qkv.weight', 'timesformer.encoder.layer.11.temporal_layernorm.weight', 'timesformer.encoder.layer.9.layernorm_after.weight', 'timesformer.encoder.layer.7.temporal_attention.attention.qkv.bias', 'timesformer.encoder.layer.10.output.dense.weight', 'timesformer.encoder.layer.8.output.dense.weight', 'timesformer.encoder.layer.11.attention.attention.qkv.weight', 'timesformer.encoder.layer.11.temporal_dense.bias', 'timesformer.encoder.layer.10.temporal_attention.attention.qkv.bias', 'timesformer.encoder.layer.9.attention.output.dense.weight', 'timesformer.encoder.layer.11.layernorm_before.weight', 'timesformer.encoder.layer.7.temporal_layernorm.bias', 'timesformer.encoder.layer.9.attention.attention.qkv.bias', 'timesformer.encoder.layer.11.layernorm_before.bias', 'timesformer.encoder.layer.7.intermediate.dense.weight', 'timesformer.encoder.layer.10.layernorm_after.weight', 'timesformer.encoder.layer.8.intermediate.dense.bias', 'timesformer.encoder.layer.11.intermediate.dense.bias', 'timesformer.encoder.layer.9.temporal_attention.attention.qkv.bias', 'timesformer.encoder.layer.7.temporal_attention.output.dense.weight', 'timesformer.encoder.layer.10.layernorm_before.weight', 'timesformer.encoder.layer.8.temporal_attention.attention.qkv.bias', 'timesformer.encoder.layer.7.temporal_attention.attention.qkv.weight', 'timesformer.encoder.layer.7.layernorm_after.bias', 'timesformer.encoder.layer.10.intermediate.dense.weight', 'timesformer.encoder.layer.7.layernorm_before.bias', 'timesformer.encoder.layer.9.temporal_attention.output.dense.weight', 'timesformer.encoder.layer.10.attention.output.dense.bias', 'timesformer.encoder.layer.7.temporal_layernorm.weight', 'timesformer.encoder.layer.10.output.dense.bias', 'timesformer.encoder.layer.7.layernorm_after.weight', 'timesformer.encoder.layer.11.layernorm_after.weight', 'timesformer.encoder.layer.10.layernorm_before.bias', 'timesformer.encoder.layer.9.intermediate.dense.weight', 'timesformer.encoder.layer.11.output.dense.bias', 'timesformer.encoder.layer.8.intermediate.dense.weight', 'timesformer.encoder.layer.10.attention.attention.qkv.weight', 'timesformer.encoder.layer.8.temporal_attention.attention.qkv.weight', 'timesformer.encoder.layer.8.layernorm_before.bias', 'timesformer.encoder.layer.9.output.dense.weight']\n",
            "- This IS expected if you are initializing TimesformerForVideoClassification from the checkpoint of a model trained on another task or with another architecture (e.g. initializing a BertForSequenceClassification model from a BertForPreTraining model).\n",
            "- This IS NOT expected if you are initializing TimesformerForVideoClassification from the checkpoint of a model that you expect to be exactly identical (initializing a BertForSequenceClassification model from a BertForSequenceClassification model).\n"
          ]
        },
        {
          "output_type": "stream",
          "name": "stdout",
          "text": [
            "Num of model layers: 7\n",
            "sniffing\n",
            "-----------------------------------------------------------------------------------------------------\n"
          ]
        },
        {
          "output_type": "stream",
          "name": "stderr",
          "text": [
            "Some weights of the model checkpoint at facebook/timesformer-base-finetuned-k400 were not used when initializing TimesformerForVideoClassification: ['timesformer.encoder.layer.9.intermediate.dense.bias', 'timesformer.encoder.layer.10.temporal_attention.output.dense.bias', 'timesformer.encoder.layer.8.layernorm_after.bias', 'timesformer.encoder.layer.10.attention.output.dense.weight', 'timesformer.encoder.layer.9.temporal_attention.attention.qkv.weight', 'timesformer.encoder.layer.11.temporal_attention.attention.qkv.bias', 'timesformer.encoder.layer.8.attention.attention.qkv.bias', 'timesformer.encoder.layer.9.temporal_layernorm.bias', 'timesformer.encoder.layer.8.temporal_attention.output.dense.bias', 'timesformer.encoder.layer.11.attention.output.dense.weight', 'timesformer.encoder.layer.8.attention.output.dense.bias', 'timesformer.encoder.layer.11.temporal_layernorm.bias', 'timesformer.encoder.layer.8.layernorm_before.weight', 'timesformer.encoder.layer.9.temporal_attention.output.dense.bias', 'timesformer.encoder.layer.8.attention.output.dense.weight', 'timesformer.encoder.layer.10.layernorm_after.bias', 'timesformer.encoder.layer.11.layernorm_after.bias', 'timesformer.encoder.layer.11.attention.output.dense.bias', 'timesformer.encoder.layer.8.temporal_dense.weight', 'timesformer.encoder.layer.10.temporal_attention.attention.qkv.weight', 'timesformer.encoder.layer.10.intermediate.dense.bias', 'timesformer.encoder.layer.11.attention.attention.qkv.bias', 'timesformer.encoder.layer.8.temporal_attention.output.dense.weight', 'timesformer.encoder.layer.9.temporal_dense.bias', 'timesformer.encoder.layer.10.attention.attention.qkv.bias', 'timesformer.encoder.layer.9.temporal_layernorm.weight', 'timesformer.encoder.layer.11.temporal_attention.attention.qkv.weight', 'timesformer.encoder.layer.8.layernorm_after.weight', 'timesformer.encoder.layer.9.attention.output.dense.bias', 'timesformer.encoder.layer.9.layernorm_before.bias', 'timesformer.encoder.layer.11.intermediate.dense.weight', 'timesformer.encoder.layer.10.temporal_layernorm.bias', 'timesformer.encoder.layer.11.temporal_attention.output.dense.bias', 'timesformer.encoder.layer.8.temporal_layernorm.weight', 'timesformer.encoder.layer.10.temporal_layernorm.weight', 'timesformer.encoder.layer.8.output.dense.bias', 'timesformer.encoder.layer.11.temporal_dense.weight', 'timesformer.encoder.layer.9.output.dense.bias', 'timesformer.encoder.layer.8.temporal_dense.bias', 'timesformer.encoder.layer.8.temporal_layernorm.bias', 'timesformer.encoder.layer.9.attention.attention.qkv.weight', 'timesformer.encoder.layer.10.temporal_dense.weight', 'timesformer.encoder.layer.9.layernorm_after.bias', 'timesformer.encoder.layer.10.temporal_dense.bias', 'timesformer.encoder.layer.11.output.dense.weight', 'timesformer.encoder.layer.9.layernorm_before.weight', 'timesformer.encoder.layer.9.temporal_dense.weight', 'timesformer.encoder.layer.11.temporal_attention.output.dense.weight', 'timesformer.encoder.layer.10.temporal_attention.output.dense.weight', 'timesformer.encoder.layer.8.attention.attention.qkv.weight', 'timesformer.encoder.layer.11.temporal_layernorm.weight', 'timesformer.encoder.layer.9.layernorm_after.weight', 'timesformer.encoder.layer.10.output.dense.weight', 'timesformer.encoder.layer.8.output.dense.weight', 'timesformer.encoder.layer.11.attention.attention.qkv.weight', 'timesformer.encoder.layer.11.temporal_dense.bias', 'timesformer.encoder.layer.10.temporal_attention.attention.qkv.bias', 'timesformer.encoder.layer.9.attention.output.dense.weight', 'timesformer.encoder.layer.11.layernorm_before.weight', 'timesformer.encoder.layer.9.attention.attention.qkv.bias', 'timesformer.encoder.layer.11.layernorm_before.bias', 'timesformer.encoder.layer.10.layernorm_after.weight', 'timesformer.encoder.layer.8.intermediate.dense.bias', 'timesformer.encoder.layer.11.intermediate.dense.bias', 'timesformer.encoder.layer.9.temporal_attention.attention.qkv.bias', 'timesformer.encoder.layer.10.layernorm_before.weight', 'timesformer.encoder.layer.8.temporal_attention.attention.qkv.bias', 'timesformer.encoder.layer.10.intermediate.dense.weight', 'timesformer.encoder.layer.9.temporal_attention.output.dense.weight', 'timesformer.encoder.layer.10.attention.output.dense.bias', 'timesformer.encoder.layer.10.output.dense.bias', 'timesformer.encoder.layer.11.layernorm_after.weight', 'timesformer.encoder.layer.10.layernorm_before.bias', 'timesformer.encoder.layer.9.intermediate.dense.weight', 'timesformer.encoder.layer.11.output.dense.bias', 'timesformer.encoder.layer.8.intermediate.dense.weight', 'timesformer.encoder.layer.10.attention.attention.qkv.weight', 'timesformer.encoder.layer.8.temporal_attention.attention.qkv.weight', 'timesformer.encoder.layer.8.layernorm_before.bias', 'timesformer.encoder.layer.9.output.dense.weight']\n",
            "- This IS expected if you are initializing TimesformerForVideoClassification from the checkpoint of a model trained on another task or with another architecture (e.g. initializing a BertForSequenceClassification model from a BertForPreTraining model).\n",
            "- This IS NOT expected if you are initializing TimesformerForVideoClassification from the checkpoint of a model that you expect to be exactly identical (initializing a BertForSequenceClassification model from a BertForSequenceClassification model).\n"
          ]
        },
        {
          "output_type": "stream",
          "name": "stdout",
          "text": [
            "Num of model layers: 8\n",
            "tossing coin\n",
            "-----------------------------------------------------------------------------------------------------\n"
          ]
        },
        {
          "output_type": "stream",
          "name": "stderr",
          "text": [
            "Some weights of the model checkpoint at facebook/timesformer-base-finetuned-k400 were not used when initializing TimesformerForVideoClassification: ['timesformer.encoder.layer.9.intermediate.dense.bias', 'timesformer.encoder.layer.10.temporal_attention.output.dense.bias', 'timesformer.encoder.layer.10.attention.output.dense.weight', 'timesformer.encoder.layer.9.temporal_attention.attention.qkv.weight', 'timesformer.encoder.layer.11.temporal_attention.attention.qkv.bias', 'timesformer.encoder.layer.9.attention.attention.qkv.weight', 'timesformer.encoder.layer.10.temporal_dense.weight', 'timesformer.encoder.layer.9.temporal_layernorm.bias', 'timesformer.encoder.layer.11.attention.output.dense.weight', 'timesformer.encoder.layer.9.layernorm_after.bias', 'timesformer.encoder.layer.10.temporal_dense.bias', 'timesformer.encoder.layer.11.temporal_layernorm.bias', 'timesformer.encoder.layer.9.temporal_attention.output.dense.bias', 'timesformer.encoder.layer.11.output.dense.weight', 'timesformer.encoder.layer.9.layernorm_before.weight', 'timesformer.encoder.layer.9.temporal_dense.weight', 'timesformer.encoder.layer.11.temporal_attention.output.dense.weight', 'timesformer.encoder.layer.10.temporal_attention.output.dense.weight', 'timesformer.encoder.layer.10.layernorm_after.bias', 'timesformer.encoder.layer.11.temporal_layernorm.weight', 'timesformer.encoder.layer.11.layernorm_after.bias', 'timesformer.encoder.layer.11.attention.output.dense.bias', 'timesformer.encoder.layer.9.layernorm_after.weight', 'timesformer.encoder.layer.10.output.dense.weight', 'timesformer.encoder.layer.11.attention.attention.qkv.weight', 'timesformer.encoder.layer.10.temporal_attention.attention.qkv.weight', 'timesformer.encoder.layer.11.temporal_dense.bias', 'timesformer.encoder.layer.10.temporal_attention.attention.qkv.bias', 'timesformer.encoder.layer.10.intermediate.dense.bias', 'timesformer.encoder.layer.9.attention.output.dense.weight', 'timesformer.encoder.layer.11.layernorm_before.weight', 'timesformer.encoder.layer.11.attention.attention.qkv.bias', 'timesformer.encoder.layer.9.temporal_dense.bias', 'timesformer.encoder.layer.10.attention.attention.qkv.bias', 'timesformer.encoder.layer.9.temporal_layernorm.weight', 'timesformer.encoder.layer.9.attention.attention.qkv.bias', 'timesformer.encoder.layer.11.layernorm_before.bias', 'timesformer.encoder.layer.10.layernorm_after.weight', 'timesformer.encoder.layer.11.temporal_attention.attention.qkv.weight', 'timesformer.encoder.layer.11.intermediate.dense.bias', 'timesformer.encoder.layer.9.temporal_attention.attention.qkv.bias', 'timesformer.encoder.layer.10.layernorm_before.weight', 'timesformer.encoder.layer.9.attention.output.dense.bias', 'timesformer.encoder.layer.9.layernorm_before.bias', 'timesformer.encoder.layer.10.intermediate.dense.weight', 'timesformer.encoder.layer.11.intermediate.dense.weight', 'timesformer.encoder.layer.9.temporal_attention.output.dense.weight', 'timesformer.encoder.layer.10.temporal_layernorm.bias', 'timesformer.encoder.layer.11.temporal_attention.output.dense.bias', 'timesformer.encoder.layer.10.temporal_layernorm.weight', 'timesformer.encoder.layer.10.attention.output.dense.bias', 'timesformer.encoder.layer.10.output.dense.bias', 'timesformer.encoder.layer.11.layernorm_after.weight', 'timesformer.encoder.layer.11.temporal_dense.weight', 'timesformer.encoder.layer.10.layernorm_before.bias', 'timesformer.encoder.layer.9.intermediate.dense.weight', 'timesformer.encoder.layer.9.output.dense.bias', 'timesformer.encoder.layer.11.output.dense.bias', 'timesformer.encoder.layer.10.attention.attention.qkv.weight', 'timesformer.encoder.layer.9.output.dense.weight']\n",
            "- This IS expected if you are initializing TimesformerForVideoClassification from the checkpoint of a model trained on another task or with another architecture (e.g. initializing a BertForSequenceClassification model from a BertForPreTraining model).\n",
            "- This IS NOT expected if you are initializing TimesformerForVideoClassification from the checkpoint of a model that you expect to be exactly identical (initializing a BertForSequenceClassification model from a BertForSequenceClassification model).\n"
          ]
        },
        {
          "output_type": "stream",
          "name": "stdout",
          "text": [
            "Num of model layers: 9\n",
            "peeling potatoes\n",
            "-----------------------------------------------------------------------------------------------------\n"
          ]
        },
        {
          "output_type": "stream",
          "name": "stderr",
          "text": [
            "Some weights of the model checkpoint at facebook/timesformer-base-finetuned-k400 were not used when initializing TimesformerForVideoClassification: ['timesformer.encoder.layer.10.attention.output.dense.weight', 'timesformer.encoder.layer.10.temporal_attention.output.dense.bias', 'timesformer.encoder.layer.11.temporal_attention.attention.qkv.bias', 'timesformer.encoder.layer.10.temporal_dense.weight', 'timesformer.encoder.layer.11.attention.output.dense.weight', 'timesformer.encoder.layer.10.temporal_dense.bias', 'timesformer.encoder.layer.11.temporal_layernorm.bias', 'timesformer.encoder.layer.11.output.dense.weight', 'timesformer.encoder.layer.11.temporal_attention.output.dense.weight', 'timesformer.encoder.layer.10.temporal_attention.output.dense.weight', 'timesformer.encoder.layer.10.layernorm_after.bias', 'timesformer.encoder.layer.11.temporal_layernorm.weight', 'timesformer.encoder.layer.11.layernorm_after.bias', 'timesformer.encoder.layer.11.attention.output.dense.bias', 'timesformer.encoder.layer.10.output.dense.weight', 'timesformer.encoder.layer.11.attention.attention.qkv.weight', 'timesformer.encoder.layer.10.temporal_attention.attention.qkv.weight', 'timesformer.encoder.layer.11.temporal_dense.bias', 'timesformer.encoder.layer.10.temporal_attention.attention.qkv.bias', 'timesformer.encoder.layer.10.intermediate.dense.bias', 'timesformer.encoder.layer.11.layernorm_before.weight', 'timesformer.encoder.layer.11.attention.attention.qkv.bias', 'timesformer.encoder.layer.10.attention.attention.qkv.bias', 'timesformer.encoder.layer.11.layernorm_before.bias', 'timesformer.encoder.layer.10.layernorm_after.weight', 'timesformer.encoder.layer.11.temporal_attention.attention.qkv.weight', 'timesformer.encoder.layer.11.intermediate.dense.bias', 'timesformer.encoder.layer.10.layernorm_before.weight', 'timesformer.encoder.layer.10.intermediate.dense.weight', 'timesformer.encoder.layer.11.intermediate.dense.weight', 'timesformer.encoder.layer.10.temporal_layernorm.bias', 'timesformer.encoder.layer.11.temporal_attention.output.dense.bias', 'timesformer.encoder.layer.10.temporal_layernorm.weight', 'timesformer.encoder.layer.10.attention.output.dense.bias', 'timesformer.encoder.layer.10.output.dense.bias', 'timesformer.encoder.layer.11.layernorm_after.weight', 'timesformer.encoder.layer.11.temporal_dense.weight', 'timesformer.encoder.layer.10.layernorm_before.bias', 'timesformer.encoder.layer.11.output.dense.bias', 'timesformer.encoder.layer.10.attention.attention.qkv.weight']\n",
            "- This IS expected if you are initializing TimesformerForVideoClassification from the checkpoint of a model trained on another task or with another architecture (e.g. initializing a BertForSequenceClassification model from a BertForPreTraining model).\n",
            "- This IS NOT expected if you are initializing TimesformerForVideoClassification from the checkpoint of a model that you expect to be exactly identical (initializing a BertForSequenceClassification model from a BertForSequenceClassification model).\n"
          ]
        },
        {
          "output_type": "stream",
          "name": "stdout",
          "text": [
            "Num of model layers: 10\n",
            "shaking head\n",
            "-----------------------------------------------------------------------------------------------------\n"
          ]
        },
        {
          "output_type": "stream",
          "name": "stderr",
          "text": [
            "Some weights of the model checkpoint at facebook/timesformer-base-finetuned-k400 were not used when initializing TimesformerForVideoClassification: ['timesformer.encoder.layer.11.attention.attention.qkv.bias', 'timesformer.encoder.layer.11.temporal_attention.attention.qkv.bias', 'timesformer.encoder.layer.11.layernorm_before.bias', 'timesformer.encoder.layer.11.attention.output.dense.weight', 'timesformer.encoder.layer.11.temporal_attention.attention.qkv.weight', 'timesformer.encoder.layer.11.intermediate.dense.bias', 'timesformer.encoder.layer.11.temporal_layernorm.bias', 'timesformer.encoder.layer.11.output.dense.weight', 'timesformer.encoder.layer.11.intermediate.dense.weight', 'timesformer.encoder.layer.11.temporal_attention.output.dense.bias', 'timesformer.encoder.layer.11.temporal_attention.output.dense.weight', 'timesformer.encoder.layer.11.temporal_layernorm.weight', 'timesformer.encoder.layer.11.layernorm_after.bias', 'timesformer.encoder.layer.11.layernorm_after.weight', 'timesformer.encoder.layer.11.attention.output.dense.bias', 'timesformer.encoder.layer.11.temporal_dense.weight', 'timesformer.encoder.layer.11.attention.attention.qkv.weight', 'timesformer.encoder.layer.11.output.dense.bias', 'timesformer.encoder.layer.11.temporal_dense.bias', 'timesformer.encoder.layer.11.layernorm_before.weight']\n",
            "- This IS expected if you are initializing TimesformerForVideoClassification from the checkpoint of a model trained on another task or with another architecture (e.g. initializing a BertForSequenceClassification model from a BertForPreTraining model).\n",
            "- This IS NOT expected if you are initializing TimesformerForVideoClassification from the checkpoint of a model that you expect to be exactly identical (initializing a BertForSequenceClassification model from a BertForSequenceClassification model).\n"
          ]
        },
        {
          "output_type": "stream",
          "name": "stdout",
          "text": [
            "Num of model layers: 11\n",
            "eating spaghetti\n",
            "-----------------------------------------------------------------------------------------------------\n",
            "Num of model layers: 12\n",
            "eating spaghetti\n",
            "-----------------------------------------------------------------------------------------------------\n"
          ]
        }
      ],
      "source": [
        "#videos_path = \"./drive/MyDrive/FeatureExtraction/video_input/\"\n",
        "#video_list = os.listdir(videos_path)\n",
        "\n",
        "video_list = [\"eating_spaghetti.mp4\"]\n",
        "\n",
        "\n",
        "for pre_model in model_names[:1]:\n",
        "  print(pre_model)\n",
        "  confgiuration = TimesformerConfig()\n",
        "\n",
        "  model = TimesformerForVideoClassification.from_pretrained(pre_model)\n",
        "  config_dict = model.config.to_dict()\n",
        "\n",
        "\n",
        "  print(model.config.num_hidden_layers+1)\n",
        "  print(\">>>>>>>>>>>>>>>>>>>>>>>>>>\")\n",
        "  # model layers\n",
        "  for i in range(1, model.config.num_hidden_layers+1):\n",
        "    # --------------------\n",
        "\n",
        "    # adjust config and update\n",
        "    config_dict[\"num_hidden_layers\"] = i\n",
        "\n",
        "    configuration.update(config_dict=config_dict)\n",
        "\n",
        "    model_layers = TimesformerForVideoClassification.from_pretrained(pre_model, config=configuration)\n",
        "    model_layers.eval()\n",
        "\n",
        "    # model layers\n",
        "    # ----------------\n",
        "\n",
        "    image_processor = AutoImageProcessor.from_pretrained(pre_model)\n",
        "    #model_layers.eval()\n",
        "\n",
        "    for file_path in video_list:\n",
        "      file_path = hf_hub_download(repo_id=\"nielsr/video-demo\", filename=file_path, repo_type=\"dataset\")\n",
        "\n",
        "      container = av.open(file_path)\n",
        "      # sample 8 frames\n",
        "      indices = sample_frame_indices(clip_len=8, frame_sample_rate=1, seg_len=container.streams.video[0].frames)\n",
        "\n",
        "      video = read_video_pyav(container, indices)\n",
        "\n",
        "      inputs = image_processor(list(video), return_tensors=\"pt\")\n",
        "\n",
        "      with torch.no_grad():\n",
        "\n",
        "        # Features is the output\n",
        "        outputs = model_layers(**inputs)\n",
        "        logits = outputs.logits\n",
        "\n",
        "      predicted_label = logits.argmax(-1).item()\n",
        "      print(f\"Num of model layers: {i}\")\n",
        "      print(model.config.id2label[predicted_label])\n",
        "      print(\"-----------------------------------------------------------------------------------------------------\")\n",
        "      #break\n",
        "\n",
        "\n",
        "\n"
      ]
    },
    {
      "cell_type": "code",
      "execution_count": 19,
      "metadata": {
        "id": "KOLhDq3HMV0M"
      },
      "outputs": [],
      "source": [
        "image_processor = AutoImageProcessor.from_pretrained(model_names[0], config=configuration)"
      ]
    },
    {
      "cell_type": "code",
      "execution_count": null,
      "metadata": {
        "colab": {
          "base_uri": "https://localhost:8080/"
        },
        "id": "nT7cox9cnLpM",
        "outputId": "81405dbc-8ab4-45db-d627-e73b13a09546"
      },
      "outputs": [
        {
          "data": {
            "text/plain": [
              "TimesformerConfig {\n",
              "  \"_name_or_path\": \"facebook/timesformer-base-finetuned-k400\",\n",
              "  \"attention_probs_dropout_prob\": 0.0,\n",
              "  \"attention_type\": \"divided_space_time\",\n",
              "  \"drop_path_rate\": 0,\n",
              "  \"hidden_act\": \"gelu\",\n",
              "  \"hidden_dropout_prob\": 0.0,\n",
              "  \"hidden_size\": 768,\n",
              "  \"image_size\": 224,\n",
              "  \"initializer_range\": 0.02,\n",
              "  \"intermediate_size\": 3072,\n",
              "  \"layer_norm_eps\": 1e-06,\n",
              "  \"model_type\": \"timesformer\",\n",
              "  \"num_attention_heads\": 12,\n",
              "  \"num_channels\": 3,\n",
              "  \"num_frames\": 8,\n",
              "  \"num_hidden_layers\": 10,\n",
              "  \"patch_size\": 16,\n",
              "  \"qkv_bias\": true,\n",
              "  \"transformers_version\": \"4.31.0\"\n",
              "}"
            ]
          },
          "execution_count": 183,
          "metadata": {},
          "output_type": "execute_result"
        }
      ],
      "source": [
        "configuration"
      ]
    },
    {
      "cell_type": "code",
      "execution_count": 29,
      "metadata": {
        "id": "-SXPkz14cuDC"
      },
      "outputs": [],
      "source": [
        "def read_video_pyav(container, indices):\n",
        "    '''\n",
        "    Decode the video with PyAV decoder.\n",
        "    Args:\n",
        "        container (`av.container.input.InputContainer`): PyAV container.\n",
        "        indices (`List[int]`): List of frame indices to decode.\n",
        "    Returns:\n",
        "        result (np.ndarray): np array of decoded frames of shape (num_frames, height, width, 3).\n",
        "    '''\n",
        "    frames = []\n",
        "    container.seek(0)\n",
        "    start_index = indices[0]\n",
        "    end_index = indices[-1]\n",
        "    for i, frame in enumerate(container.decode(video=0)):\n",
        "        if i > end_index:\n",
        "            break\n",
        "        if i >= start_index and i in indices:\n",
        "            frames.append(frame)\n",
        "    return np.stack([x.to_ndarray(format=\"rgb24\") for x in frames])\n",
        "\n",
        "\n",
        "def sample_frame_indices(clip_len, frame_sample_rate, seg_len):\n",
        "    converted_len = int(clip_len * frame_sample_rate)\n",
        "    end_idx = np.random.randint(converted_len, seg_len)\n",
        "    start_idx = end_idx - converted_len\n",
        "    indices = np.linspace(start_idx, end_idx, num=clip_len)\n",
        "    indices = np.clip(indices, start_idx, end_idx - 1).astype(np.int64)\n",
        "    return indices\n"
      ]
    },
    {
      "cell_type": "code",
      "execution_count": null,
      "metadata": {
        "id": "M_MH7gcUmN92"
      },
      "outputs": [],
      "source": []
    },
    {
      "cell_type": "code",
      "source": [],
      "metadata": {
        "id": "wssGWSWmb5UZ"
      },
      "execution_count": null,
      "outputs": []
    },
    {
      "cell_type": "code",
      "source": [
        "model = TimesformerForVideoClassification.from_pretrained(\"facebook/timesformer-base-finetuned-k400\")\n",
        "\n",
        "inputs = image_processor(list(video), return_tensors=\"pt\")\n",
        "\n",
        "with torch.no_grad():\n",
        "\n",
        "    outputs = model(**inputs)\n",
        "\n",
        "    logits = outputs.logits\n",
        "\n",
        "# model predicts one of the 400 Kinetics-400 classes\n",
        "\n",
        "predicted_label = logits.argmax(-1).item()\n",
        "\n",
        "print(model.config.id2label[predicted_label])"
      ],
      "metadata": {
        "colab": {
          "base_uri": "https://localhost:8080/"
        },
        "id": "2JlQfCyKcQBc",
        "outputId": "c10a5071-b416-4e75-f3a9-3c23112e3890"
      },
      "execution_count": 54,
      "outputs": [
        {
          "output_type": "stream",
          "name": "stdout",
          "text": [
            "crying\n"
          ]
        }
      ]
    },
    {
      "cell_type": "code",
      "source": [],
      "metadata": {
        "id": "56ofExUjyMDR"
      },
      "execution_count": null,
      "outputs": []
    }
  ],
  "metadata": {
    "colab": {
      "provenance": [],
      "authorship_tag": "ABX9TyMrtmNYBGijuwNC7ivYNAzR",
      "include_colab_link": true
    },
    "kernelspec": {
      "display_name": "Python 3",
      "name": "python3"
    },
    "language_info": {
      "name": "python"
    }
  },
  "nbformat": 4,
  "nbformat_minor": 0
}